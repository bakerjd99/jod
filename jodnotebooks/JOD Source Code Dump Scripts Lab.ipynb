{
 "cells": [
  {
   "cell_type": "markdown",
   "metadata": {},
   "source": [
    "# JOD Source Code Dump Scripts Lab\n",
    "\n",
    "![](inclusions/jodtinycube.png)"
   ]
  },
  {
   "cell_type": "markdown",
   "metadata": {},
   "source": [
    "### Introduction\n",
    "\n",
    "JOD source code is distributed in three JOD dump scripts. Dump scripts are plain ASCII \n",
    "J scripts that can be loaded with J's standard script processing verbs.\n",
    "\n",
    "This lab assumes JOD and supporting addons have been installed. JOD and supporting \n",
    "addons can be installed with the [J package manager](https://code.jsoftware.com/wiki/JAL/Package_Manager)."
   ]
  },
  {
   "cell_type": "code",
   "execution_count": 1,
   "metadata": {},
   "outputs": [],
   "source": [
    "NB. to use a dump script JOD must be active\n",
    "load 'general/jod'"
   ]
  },
  {
   "cell_type": "markdown",
   "metadata": {},
   "source": [
    "### Configure a `~JODSOURCE` directory\n",
    "\n",
    "To run a JOD dump script simply open a new dictionary and use `(0!:0)`. \n",
    "\n",
    "For this lab, the source dictionaries are created in the (`~JODSOURCE`) relative directory.  You will need to configure a J folder to point to an actual directory. I *strongly recommend* using a directory that is not in the J system tree! You don't want your precious dictionary databases being wiped by installing the next J version.\n",
    "\n",
    "Before proceeding configure a (`~JODSOURCE`) directory. On J8.0 and 9.0x JQT systems, the `Configure/Folders` menu opens the directory folder configuration file."
   ]
  },
  {
   "cell_type": "markdown",
   "metadata": {},
   "source": [
    "### Remove previous lab dictionaries\n",
    "\n",
    "**WARNING: THE NEXT STEP REMOVES DICTIONARIES CREATED BY PRIOR RUNS OF THIS LAB.  THE DICTIONARIES (`utilsload`, `jodload`, `joddevload`) WILL BE DELETED. IF YOU CARE ABOUT THE CONTENTS OF THESE DICTIONARIES DO NOT EXECUTE THE NEXT LAB STEP.**\n",
    "\n",
    "This step defines a verb that removes lab source dictionaries."
   ]
  },
  {
   "cell_type": "code",
   "execution_count": 2,
   "metadata": {},
   "outputs": [],
   "source": [
    "RemoveLabSourceDictionaries_ijod_=: 3 : 0\n",
    "if. '~JODSOURCE' -: root=. jpath '~JODSOURCE' do.\n",
    "  smoutput 'A JODSOURCE directory is not setup - setup and try again.'\n",
    "elseif. -.fexist jpath '~addons/general/jodsource/jod.ijs' do.\n",
    "  smoutput 'JODSOURCE addon is not installed - install and try again.'\n",
    "elseif. IFWIN do.\n",
    "  NB. clear out dictionary directories\n",
    "  shell 'rd /s /q \"',(root,'\\utilsload'),'\"'\n",
    "  shell 'rd /s /q \"',(root,'\\jodload'),'\"'\n",
    "  shell 'rd /s /q \"',(root,'\\joddevload'),'\"'\n",
    "  smoutput 'Lab temporary (win) source dictionaries erased'\n",
    "elseif. IFUNIX do.\n",
    "  NB. avoid blanks in JODSOURCE paths on Linux and Mac systems\n",
    "  shell 'rm -rf ',root,'/utilsload'\n",
    "  shell 'rm -rf ',root,'/jodload'\n",
    "  shell 'rm -rf ',root,'/joddevload'\n",
    "  smoutput 'Lab temporary (mac/linux) source dictionaries erased'\n",
    "elseif.do.\n",
    "  smoutput 'Erase any previous temporary lab source dictionaries manually.'\n",
    "end.\n",
    ")"
   ]
  },
  {
   "cell_type": "markdown",
   "metadata": {},
   "source": [
    "### Remove any previous lab dictionaries."
   ]
  },
  {
   "cell_type": "code",
   "execution_count": 3,
   "metadata": {},
   "outputs": [
    {
     "name": "stdout",
     "output_type": "stream",
     "text": [
      "Lab temporary (win) source dictionaries erased\n"
     ]
    }
   ],
   "source": [
    "NB. unregister - ignore errors\n",
    "0 0 $ 3 regd&> ;:'utilsload jodload joddevload' [ 3 od ''\n",
    "\n",
    "NB. clear out dictionary directories\n",
    "RemoveLabSourceDictionaries 0"
   ]
  },
  {
   "cell_type": "markdown",
   "metadata": {},
   "source": [
    "### Create `utilsload` dictionary\n",
    "\n",
    "Dump scripts are loaded into dictionaries.  Create a (`utilsload`) dictionary."
   ]
  },
  {
   "cell_type": "code",
   "execution_count": 4,
   "metadata": {},
   "outputs": [
    {
     "name": "stdout",
     "output_type": "stream",
     "text": [
      "┌─┬─────────────────────┬─────────┬────────────────────────────────┐\n",
      "│1│dictionary created ->│utilsload│c:/jodtest/labtesting/utilsload/│\n",
      "└─┴─────────────────────┴─────────┴────────────────────────────────┘\n",
      "┌─┬──────────────┬─────────┐\n",
      "│1│opened (rw) ->│utilsload│\n",
      "└─┴──────────────┴─────────┘\n"
     ]
    }
   ],
   "source": [
    "NB. create a new utils directory in (~JODSOURCE) - it will be renamed later\n",
    "NB. You must configure (~JODSOURCE) and point to an actual empty directory.\n",
    "\n",
    "smoutput newd 'utilsload';(jpath '~JODSOURCE/utilsload');'main utility dictionary'\n",
    "\n",
    "NB. close any open dictionaries and open\n",
    "od 'utilsload' [ 3 od ''"
   ]
  },
  {
   "cell_type": "markdown",
   "metadata": {},
   "source": [
    "*When JOD dump scripts run they do not disturb your current J environment.*  All words are defined in a numbered scratch locale that is created when JOD loads.  JOD dump scripts display messages after loading batches of objects.  The next lab step loads the utility dictionary.\n",
    "\n",
    "Warning: dump scripts can be *very large* so it's a good idea to use always use `(0!:x)`.  Loading a dump script into J session editors can crash J for very large scripts."
   ]
  },
  {
   "cell_type": "markdown",
   "metadata": {},
   "source": [
    "### Load the `utilsload` dictionary"
   ]
  },
  {
   "cell_type": "code",
   "execution_count": 5,
   "metadata": {},
   "outputs": [
    {
     "name": "stdout",
     "output_type": "stream",
     "text": [
      "┌─┬────────────────────┬─────────┐\n",
      "│1│25 word(s) put in ->│utilsload│\n",
      "└─┴────────────────────┴─────────┘\n",
      "┌─┬────────────────────┬─────────┐\n",
      "│1│50 word(s) put in ->│utilsload│\n",
      "└─┴────────────────────┴─────────┘\n",
      "┌─┬────────────────────┬─────────┐\n",
      "│1│50 word(s) put in ->│utilsload│\n",
      "└─┴────────────────────┴─────────┘\n",
      "┌─┬────────────────────┬─────────┐\n",
      "│1│50 word(s) put in ->│utilsload│\n",
      "└─┴────────────────────┴─────────┘\n",
      "┌─┬────────────────────┬─────────┐\n",
      "│1│50 word(s) put in ->│utilsload│\n",
      "└─┴────────────────────┴─────────┘\n",
      "┌─┬────────────────────┬─────────┐\n",
      "│1│50 word(s) put in ->│utilsload│\n",
      "└─┴────────────────────┴─────────┘\n",
      "┌─┬────────────────────┬─────────┐\n",
      "│1│50 word(s) put in ->│utilsload│\n",
      "└─┴────────────────────┴─────────┘\n",
      "┌─┬────────────────────┬─────────┐\n",
      "│1│50 word(s) put in ->│utilsload│\n",
      "└─┴────────────────────┴─────────┘\n",
      "┌─┬────────────────────┬─────────┐\n",
      "│1│12 word(s) put in ->│utilsload│\n",
      "└─┴────────────────────┴─────────┘\n",
      "┌─┬─────────────────────────────────┬─────────┐\n",
      "│1│387 word explanation(s) put in ->│utilsload│\n",
      "└─┴─────────────────────────────────┴─────────┘\n",
      "┌─┬────────────────────────────┬─────────┐\n",
      "│1│3 word document(s) put in ->│utilsload│\n",
      "└─┴────────────────────────────┴─────────┘\n",
      "┌─┬────────────────────────────┬─────────┐\n",
      "│1│6 word document(s) put in ->│utilsload│\n",
      "└─┴────────────────────────────┴─────────┘\n",
      "┌─┬────────────────────────────┬─────────┐\n",
      "│1│3 word document(s) put in ->│utilsload│\n",
      "└─┴────────────────────────────┴─────────┘\n",
      "┌─┬────────────────────────────┬─────────┐\n",
      "│1│5 word document(s) put in ->│utilsload│\n",
      "└─┴────────────────────────────┴─────────┘\n",
      "┌─┬────────────────────────────┬─────────┐\n",
      "│1│3 word document(s) put in ->│utilsload│\n",
      "└─┴────────────────────────────┴─────────┘\n",
      "┌─┬─────────────────────────────┬─────────┐\n",
      "│1│10 word document(s) put in ->│utilsload│\n",
      "└─┴─────────────────────────────┴─────────┘\n",
      "┌─┬────────────────────────────┬─────────┐\n",
      "│1│1 word document(s) put in ->│utilsload│\n",
      "└─┴────────────────────────────┴─────────┘\n",
      "┌─┬────────────────────────────┬─────────┐\n",
      "│1│4 word document(s) put in ->│utilsload│\n",
      "└─┴────────────────────────────┴─────────┘\n",
      "┌─┬───────────────────┬─────────┐\n",
      "│1│7 test(s) put in ->│utilsload│\n",
      "└─┴───────────────────┴─────────┘\n",
      "┌─┬───────────────────────────────┬─────────┐\n",
      "│1│7 test explanation(s) put in ->│utilsload│\n",
      "└─┴───────────────────────────────┴─────────┘\n",
      "┌─┬─────────────────────┬─────────┐\n",
      "│1│16 macro(s) put in ->│utilsload│\n",
      "└─┴─────────────────────┴─────────┘\n",
      "┌─┬─────────────────────────────────┬─────────┐\n",
      "│1│16 macro explanation(s) put in ->│utilsload│\n",
      "└─┴─────────────────────────────────┴─────────┘\n",
      "┌─┬────────────────────────────────┬─────────┐\n",
      "│1│group <base64> put in ->        │utilsload│\n",
      "├─┼────────────────────────────────┼─────────┤\n",
      "│1│group <boxopen> put in ->       │utilsload│\n",
      "├─┼────────────────────────────────┼─────────┤\n",
      "│1│group <bstats> put in ->        │utilsload│\n",
      "├─┼────────────────────────────────┼─────────┤\n",
      "│1│group <buildutils> put in ->    │utilsload│\n",
      "├─┼────────────────────────────────┼─────────┤\n",
      "│1│group <dbext> put in ->         │utilsload│\n",
      "├─┼────────────────────────────────┼─────────┤\n",
      "│1│group <dewhitejscript> put in ->│utilsload│\n",
      "├─┼────────────────────────────────┼─────────┤\n",
      "│1│group <dllutils> put in ->      │utilsload│\n",
      "├─┼────────────────────────────────┼─────────┤\n",
      "│1│group <earthdistances> put in ->│utilsload│\n",
      "├─┼────────────────────────────────┼─────────┤\n",
      "│1│group <grpclassutils> put in -> │utilsload│\n",
      "├─┼────────────────────────────────┼─────────┤\n",
      "│1│group <htmthorn> put in ->      │utilsload│\n",
      "├─┼────────────────────────────────┼─────────┤\n",
      "│1│group <numrep> put in ->        │utilsload│\n",
      "├─┼────────────────────────────────┼─────────┤\n",
      "│1│group <odbcREF> put in ->       │utilsload│\n",
      "├─┼────────────────────────────────┼─────────┤\n",
      "│1│group <putters> put in ->       │utilsload│\n",
      "├─┼────────────────────────────────┼─────────┤\n",
      "│1│group <remdots> put in ->       │utilsload│\n",
      "├─┼────────────────────────────────┼─────────┤\n",
      "│1│group <rwtabd> put in ->        │utilsload│\n",
      "├─┼────────────────────────────────┼─────────┤\n",
      "│1│group <socketsREF> put in ->    │utilsload│\n",
      "├─┼────────────────────────────────┼─────────┤\n",
      "│1│group <sunmoon> put in ->       │utilsload│\n",
      "├─┼────────────────────────────────┼─────────┤\n",
      "│1│group <trig> put in ->          │utilsload│\n",
      "├─┼────────────────────────────────┼─────────┤\n",
      "│1│group <unicode> put in ->       │utilsload│\n",
      "├─┼────────────────────────────────┼─────────┤\n",
      "│1│group <wordformation> put in -> │utilsload│\n",
      "├─┼────────────────────────────────┼─────────┤\n",
      "│1│group <xmlutils> put in ->      │utilsload│\n",
      "└─┴────────────────────────────────┴─────────┘\n",
      "┌─┬─────────────────────────┬─────────┐\n",
      "│1│5 group text(s) put in ->│utilsload│\n",
      "└─┴─────────────────────────┴─────────┘\n",
      "┌─┬─────────────────────────────────┬─────────┐\n",
      "│1│21 group explanation(s) put in ->│utilsload│\n",
      "└─┴─────────────────────────────────┴─────────┘\n",
      "┌─┬─────────────────────────────┬─────────┐\n",
      "│1│2 group document(s) put in ->│utilsload│\n",
      "└─┴─────────────────────────────┴─────────┘\n",
      "┌─┬──────────────────────────────┬─────────┐\n",
      "│1│dictionary document updated ->│utilsload│\n",
      "└─┴──────────────────────────────┴─────────┘\n",
      "NB. end-of-JOD-dump-file regenerate cross references with:  0 globs&> }. revo '' \n"
     ]
    }
   ],
   "source": [
    "NB. run the utils dump script\n",
    "0!:0 <jpath '~addons/general/jodsource/utils.ijs'"
   ]
  },
  {
   "cell_type": "markdown",
   "metadata": {},
   "source": [
    "### Regenerate `utilsload` cross references\n",
    "\n",
    "The last message displayed by a dump script is a reminder to regenerate cross references.  JOD dictionaries maintain word cross references that are used in many ways. The cross references are not stored in dumps and must be recreated afterwards."
   ]
  },
  {
   "cell_type": "code",
   "execution_count": 6,
   "metadata": {},
   "outputs": [
    {
     "name": "stdout",
     "output_type": "stream",
     "text": [
      "┌─┬───────────────────────────────────┬─────────┐\n",
      "│1│<weeksbetween> references put in ->│utilsload│\n",
      "├─┼───────────────────────────────────┼─────────┤\n",
      "│1│<weeksinyear> references put in -> │utilsload│\n",
      "├─┼───────────────────────────────────┼─────────┤\n",
      "│1│<wfl> references put in ->         │utilsload│\n",
      "├─┼───────────────────────────────────┼─────────┤\n",
      "│1│<winlcchars> references put in ->  │utilsload│\n",
      "├─┼───────────────────────────────────┼─────────┤\n",
      "│1│<winpathsep> references put in ->  │utilsload│\n",
      "└─┴───────────────────────────────────┴─────────┘\n",
      "┌─┬────────────────────────────────────────────┬─────────┐\n",
      "│1│put dictionary is now a read/only library ->│utilsload│\n",
      "└─┴────────────────────────────────────────────┴─────────┘\n"
     ]
    }
   ],
   "source": [
    "NB. regenerate utilities cross references and show first 5 messages\n",
    "smoutput 5 {. 0 globs&> }. revo ''\n",
    "\n",
    "NB. make utilities a read only dictionary\n",
    "dpset 'READONLY'"
   ]
  },
  {
   "cell_type": "markdown",
   "metadata": {},
   "source": [
    "### Load `jodload`\n",
    "\n",
    "The utilities dictionary is now loaded and cross references have been updated.  To complete the restoration of JOD source code we now create and load (`jodload`) and (`joddevload)`."
   ]
  },
  {
   "cell_type": "code",
   "execution_count": 7,
   "metadata": {},
   "outputs": [
    {
     "name": "stdout",
     "output_type": "stream",
     "text": [
      "┌─┬─────────────────────┬───────┬──────────────────────────────┐\n",
      "│1│dictionary created ->│jodload│c:/jodtest/labtesting/jodload/│\n",
      "└─┴─────────────────────┴───────┴──────────────────────────────┘\n",
      "┌─┬─────────────────────┬──────────┬─────────────────────────────────┐\n",
      "│1│dictionary created ->│joddevload│c:/jodtest/labtesting/joddevload/│\n",
      "└─┴─────────────────────┴──────────┴─────────────────────────────────┘\n"
     ]
    }
   ],
   "source": [
    "NB. create dictionaries\n",
    "smoutput newd 'jodload';(jpath '~JODSOURCE/jodload');'jod source code dictionary'\n",
    "newd 'joddevload';(jpath '~JODSOURCE/joddevload');'jod development put dictionary'"
   ]
  },
  {
   "cell_type": "markdown",
   "metadata": {},
   "source": [
    "JOD source code depends on objects in the utilities dictionary.  This relationship is maintained by the path order of dictionaries."
   ]
  },
  {
   "cell_type": "code",
   "execution_count": 8,
   "metadata": {},
   "outputs": [
    {
     "name": "stdout",
     "output_type": "stream",
     "text": [
      "┌─┬────────────────────────────────────────────────────────────┐\n",
      "│1│┌─────────┬──┬─────┬─────┬───────┬───────┬──────┬──────────┐│\n",
      "│ ││         │--│Words│Tests│Groups*│Suites*│Macros│Path*     ││\n",
      "│ │├─────────┼──┼─────┼─────┼───────┼───────┼──────┼──────────┤│\n",
      "│ ││jodload  │rw│0    │0    │0      │0      │0     │/         ││\n",
      "│ │├─────────┼──┼─────┼─────┼───────┼───────┼──────┼──────────┤│\n",
      "│ ││utilsload│ro│387  │7    │21     │0      │16    │/utilsload││\n",
      "│ │└─────────┴──┴─────┴─────┴───────┴───────┴──────┴──────────┘│\n",
      "└─┴────────────────────────────────────────────────────────────┘\n"
     ]
    }
   ],
   "source": [
    "NB. close any open dictionaries \n",
    "3 od ''\n",
    "\n",
    "NB. open (jodload) and (utilsload)\n",
    "od ;:'jodload utilsload'\n",
    "\n",
    "NB. display dictionary information\n",
    "did~  0"
   ]
  },
  {
   "cell_type": "markdown",
   "metadata": {},
   "source": [
    "Load JOD source code.  The JOD dictionary dump is large because it contains a substantial amount of documentation and test data. It may take a few moments to load."
   ]
  },
  {
   "cell_type": "code",
   "execution_count": 9,
   "metadata": {},
   "outputs": [
    {
     "name": "stdout",
     "output_type": "stream",
     "text": [
      "┌─┬────────────────────┬───────┐\n",
      "│1│50 word(s) put in ->│jodload│\n",
      "└─┴────────────────────┴───────┘\n",
      "┌─┬────────────────────┬───────┐\n",
      "│1│50 word(s) put in ->│jodload│\n",
      "└─┴────────────────────┴───────┘\n",
      "┌─┬────────────────────┬───────┐\n",
      "│1│50 word(s) put in ->│jodload│\n",
      "└─┴────────────────────┴───────┘\n",
      "┌─┬────────────────────┬───────┐\n",
      "│1│50 word(s) put in ->│jodload│\n",
      "└─┴────────────────────┴───────┘\n",
      "┌─┬────────────────────┬───────┐\n",
      "│1│50 word(s) put in ->│jodload│\n",
      "└─┴────────────────────┴───────┘\n",
      "┌─┬────────────────────┬───────┐\n",
      "│1│50 word(s) put in ->│jodload│\n",
      "└─┴────────────────────┴───────┘\n",
      "┌─┬────────────────────┬───────┐\n",
      "│1│50 word(s) put in ->│jodload│\n",
      "└─┴────────────────────┴───────┘\n",
      "┌─┬────────────────────┬───────┐\n",
      "│1│42 word(s) put in ->│jodload│\n",
      "└─┴────────────────────┴───────┘\n",
      "┌─┬────────────────────┬───────┐\n",
      "│1│50 word(s) put in ->│jodload│\n",
      "└─┴────────────────────┴───────┘\n",
      "┌─┬────────────────────┬───────┐\n",
      "│1│50 word(s) put in ->│jodload│\n",
      "└─┴────────────────────┴───────┘\n",
      "┌─┬────────────────────┬───────┐\n",
      "│1│50 word(s) put in ->│jodload│\n",
      "└─┴────────────────────┴───────┘\n",
      "┌─┬────────────────────┬───────┐\n",
      "│1│50 word(s) put in ->│jodload│\n",
      "└─┴────────────────────┴───────┘\n",
      "┌─┬────────────────────┬───────┐\n",
      "│1│50 word(s) put in ->│jodload│\n",
      "└─┴────────────────────┴───────┘\n",
      "┌─┬────────────────────┬───────┐\n",
      "│1│50 word(s) put in ->│jodload│\n",
      "└─┴────────────────────┴───────┘\n",
      "┌─┬────────────────────┬───────┐\n",
      "│1│50 word(s) put in ->│jodload│\n",
      "└─┴────────────────────┴───────┘\n",
      "┌─┬────────────────────┬───────┐\n",
      "│1│26 word(s) put in ->│jodload│\n",
      "└─┴────────────────────┴───────┘\n",
      "┌─┬─────────────────────────────────┬───────┐\n",
      "│1│319 word explanation(s) put in ->│jodload│\n",
      "└─┴─────────────────────────────────┴───────┘\n",
      "┌─┬─────────────────────────────────┬───────┐\n",
      "│1│268 word explanation(s) put in ->│jodload│\n",
      "└─┴─────────────────────────────────┴───────┘\n",
      "┌─┬────────────────────────────┬───────┐\n",
      "│1│1 word document(s) put in ->│jodload│\n",
      "└─┴────────────────────────────┴───────┘\n",
      "┌─┬────────────────────────────┬───────┐\n",
      "│1│1 word document(s) put in ->│jodload│\n",
      "└─┴────────────────────────────┴───────┘\n",
      "┌─┬────────────────────┬───────┐\n",
      "│1│50 test(s) put in ->│jodload│\n",
      "└─┴────────────────────┴───────┘\n",
      "┌─┬───────────────────┬───────┐\n",
      "│1│4 test(s) put in ->│jodload│\n",
      "└─┴───────────────────┴───────┘\n",
      "┌─┬────────────────────────────────┬───────┐\n",
      "│1│39 test explanation(s) put in ->│jodload│\n",
      "└─┴────────────────────────────────┴───────┘\n",
      "┌─┬────────────────────────────┬───────┐\n",
      "│1│1 test document(s) put in ->│jodload│\n",
      "└─┴────────────────────────────┴───────┘\n",
      "┌─┬─────────────────────┬───────┐\n",
      "│1│50 macro(s) put in ->│jodload│\n",
      "└─┴─────────────────────┴───────┘\n",
      "┌─┬─────────────────────┬───────┐\n",
      "│1│11 macro(s) put in ->│jodload│\n",
      "└─┴─────────────────────┴───────┘\n",
      "┌─┬─────────────────────────────────┬───────┐\n",
      "│1│39 macro explanation(s) put in ->│jodload│\n",
      "└─┴─────────────────────────────────┴───────┘\n",
      "┌─┬──────────────────────────────────┬───────┐\n",
      "│1│group <AGEHEADER> put in ->       │jodload│\n",
      "├─┼──────────────────────────────────┼───────┤\n",
      "│1│group <CR> put in ->              │jodload│\n",
      "├─┼──────────────────────────────────┼───────┤\n",
      "│1│group <IzjReferences> put in ->   │jodload│\n",
      "├─┼──────────────────────────────────┼───────┤\n",
      "│1│group <badgroup001> put in ->     │jodload│\n",
      "├─┼──────────────────────────────────┼───────┤\n",
      "│1│group <buildjod> put in ->        │jodload│\n",
      "├─┼──────────────────────────────────┼───────┤\n",
      "│1│group <buildutils> put in ->      │jodload│\n",
      "├─┼──────────────────────────────────┼───────┤\n",
      "│1│group <colibReferences> put in -> │jodload│\n",
      "├─┼──────────────────────────────────┼───────┤\n",
      "│1│group <doctest> put in ->         │jodload│\n",
      "├─┼──────────────────────────────────┼───────┤\n",
      "│1│group <jfilesReferences> put in ->│jodload│\n",
      "├─┼──────────────────────────────────┼───────┤\n",
      "│1│group <jod> put in ->             │jodload│\n",
      "├─┼──────────────────────────────────┼───────┤\n",
      "│1│group <joddob> put in ->          │jodload│\n",
      "├─┼──────────────────────────────────┼───────┤\n",
      "│1│group <jodliterate> put in ->     │jodload│\n",
      "├─┼──────────────────────────────────┼───────┤\n",
      "│1│group <jodmake> put in ->         │jodload│\n",
      "├─┼──────────────────────────────────┼───────┤\n",
      "│1│group <jodon> put in ->           │jodload│\n",
      "├─┼──────────────────────────────────┼───────┤\n",
      "│1│group <jodpostprj> put in ->      │jodload│\n",
      "├─┼──────────────────────────────────┼───────┤\n",
      "│1│group <jodprepprj> put in ->      │jodload│\n",
      "├─┼──────────────────────────────────┼───────┤\n",
      "│1│group <jodstore> put in ->        │jodload│\n",
      "├─┼──────────────────────────────────┼───────┤\n",
      "│1│group <jodtester> put in ->       │jodload│\n",
      "├─┼──────────────────────────────────┼───────┤\n",
      "│1│group <jodtools> put in ->        │jodload│\n",
      "├─┼──────────────────────────────────┼───────┤\n",
      "│1│group <jodutil> put in ->         │jodload│\n",
      "├─┼──────────────────────────────────┼───────┤\n",
      "│1│group <test> put in ->            │jodload│\n",
      "├─┼──────────────────────────────────┼───────┤\n",
      "│1│group <testpost> put in ->        │jodload│\n",
      "└─┴──────────────────────────────────┴───────┘\n",
      "┌─┬──────────────────────────┬───────┐\n",
      "│1│13 group text(s) put in ->│jodload│\n",
      "└─┴──────────────────────────┴───────┘\n",
      "┌─┬────────────────────────────────┬───────┐\n",
      "│1│8 group explanation(s) put in ->│jodload│\n",
      "└─┴────────────────────────────────┴───────┘\n",
      "┌─┬─────────────────────────────┬───────┐\n",
      "│1│4 group document(s) put in ->│jodload│\n",
      "└─┴─────────────────────────────┴───────┘\n",
      "┌─┬───────────────────────────────────────┬───────┐\n",
      "│1│suite <doctest> put in ->              │jodload│\n",
      "├─┼───────────────────────────────────────┼───────┤\n",
      "│1│suite <jodbasictests> put in ->        │jodload│\n",
      "├─┼───────────────────────────────────────┼───────┤\n",
      "│1│suite <jodcrushtests> put in ->        │jodload│\n",
      "├─┼───────────────────────────────────────┼───────┤\n",
      "│1│suite <jodextensiontests> put in ->    │jodload│\n",
      "├─┼───────────────────────────────────────┼───────┤\n",
      "│1│suite <jodlargetests> put in ->        │jodload│\n",
      "├─┼───────────────────────────────────────┼───────┤\n",
      "│1│suite <jodmanwintests> put in ->       │jodload│\n",
      "├─┼───────────────────────────────────────┼───────┤\n",
      "│1│suite <jodpjmtest> put in ->           │jodload│\n",
      "├─┼───────────────────────────────────────┼───────┤\n",
      "│1│suite <jodpreparetests> put in ->      │jodload│\n",
      "├─┼───────────────────────────────────────┼───────┤\n",
      "│1│suite <jodsmoketests> put in ->        │jodload│\n",
      "├─┼───────────────────────────────────────┼───────┤\n",
      "│1│suite <jodstresstests> put in ->       │jodload│\n",
      "├─┼───────────────────────────────────────┼───────┤\n",
      "│1│suite <loadlargefeasiblecase> put in ->│jodload│\n",
      "├─┼───────────────────────────────────────┼───────┤\n",
      "│1│suite <makePathtests> put in ->        │jodload│\n",
      "└─┴───────────────────────────────────────┴───────┘\n",
      "┌─┬─────────────────────────┬───────┐\n",
      "│1│4 suite text(s) put in ->│jodload│\n",
      "└─┴─────────────────────────┴───────┘\n",
      "┌─┬────────────────────────────────┬───────┐\n",
      "│1│7 suite explanation(s) put in ->│jodload│\n",
      "└─┴────────────────────────────────┴───────┘\n",
      "┌─┬─────────────────────────────┬───────┐\n",
      "│1│1 suite document(s) put in ->│jodload│\n",
      "└─┴─────────────────────────────┴───────┘\n",
      "┌─┬──────────────────────────────┬───────┐\n",
      "│1│dictionary document updated ->│jodload│\n",
      "└─┴──────────────────────────────┴───────┘\n",
      "NB. end-of-JOD-dump-file regenerate cross references with:  0 globs&> }. revo '' \n"
     ]
    }
   ],
   "source": [
    "NB. load jod\n",
    "0!:0 <jpath '~addons/general/jodsource/jod.ijs'"
   ]
  },
  {
   "cell_type": "markdown",
   "metadata": {},
   "source": [
    "### Regenerate cross references\n",
    "\n",
    "Before regenerating cross references look at the open dictionaries.  The (`jodload`) dictionary now has a reference path that includes (`utilsload`)."
   ]
  },
  {
   "cell_type": "code",
   "execution_count": 10,
   "metadata": {},
   "outputs": [
    {
     "name": "stdout",
     "output_type": "stream",
     "text": [
      "┌─┬────────────────────────────────────────────────────────────────────┐\n",
      "│1│┌─────────┬──┬─────┬─────┬───────┬───────┬──────┬──────────────────┐│\n",
      "│ ││         │--│Words│Tests│Groups*│Suites*│Macros│Path*             ││\n",
      "│ │├─────────┼──┼─────┼─────┼───────┼───────┼──────┼──────────────────┤│\n",
      "│ ││jodload  │rw│768  │54   │22     │12     │61    │/jodload/utilsload││\n",
      "│ │├─────────┼──┼─────┼─────┼───────┼───────┼──────┼──────────────────┤│\n",
      "│ ││utilsload│ro│387  │7    │21     │0      │16    │/utilsload        ││\n",
      "│ │└─────────┴──┴─────┴─────┴───────┴───────┴──────┴──────────────────┘│\n",
      "└─┴────────────────────────────────────────────────────────────────────┘\n"
     ]
    }
   ],
   "source": [
    "NB. note the (jodload) path\n",
    "did~ 0"
   ]
  },
  {
   "cell_type": "markdown",
   "metadata": {},
   "source": [
    "JOD cross references will depend on utilities."
   ]
  },
  {
   "cell_type": "code",
   "execution_count": 11,
   "metadata": {},
   "outputs": [
    {
     "name": "stdout",
     "output_type": "stream",
     "text": [
      "┌─┬─────────────────────────────────┬───────┐\n",
      "│1│<putntstamp> references put in ->│jodload│\n",
      "├─┼─────────────────────────────────┼───────┤\n",
      "│1│<puttable> references put in ->  │jodload│\n",
      "├─┼─────────────────────────────────┼───────┤\n",
      "│1│<puttexts> references put in ->  │jodload│\n",
      "├─┼─────────────────────────────────┼───────┤\n",
      "│1│<puttstamps> references put in ->│jodload│\n",
      "├─┼─────────────────────────────────┼───────┤\n",
      "│1│<putwords> references put in ->  │jodload│\n",
      "└─┴─────────────────────────────────┴───────┘\n",
      "┌─┬────────────────────────────────────────────┬───────┐\n",
      "│1│put dictionary is now a read/only library ->│jodload│\n",
      "└─┴────────────────────────────────────────────┴───────┘\n"
     ]
    }
   ],
   "source": [
    "NB. regenerate (jodload) cross references and show first 5 messages\n",
    "smoutput 5 {. 0 globs&> }. revo ''\n",
    "\n",
    "NB. make (jodload) a read only dictionary\n",
    "dpset 'READONLY'"
   ]
  },
  {
   "cell_type": "markdown",
   "metadata": {},
   "source": [
    "### Load `joddevload`\n",
    "\n",
    "Now let's load and cross reference (`joddevload`).  (`joddevload`) is what I call the \"dev-layer\".  The dev-layer is a put dictionary that sits on top of a number of stable dictionaries. During development only the dev-layer changes.  You can easily revoke a dev-layer dictionary by closing it."
   ]
  },
  {
   "cell_type": "code",
   "execution_count": 12,
   "metadata": {},
   "outputs": [
    {
     "name": "stdout",
     "output_type": "stream",
     "text": [
      "┌─┬────────────────────┬──────────┬───────┬─────────┐\n",
      "│1│opened (rw/ro/ro) ->│joddevload│jodload│utilsload│\n",
      "└─┴────────────────────┴──────────┴───────┴─────────┘\n"
     ]
    }
   ],
   "source": [
    "NB. close open dictionaries and open in correct path order\n",
    "3 od ''\n",
    "od ;:'joddevload jodload utilsload'"
   ]
  },
  {
   "cell_type": "markdown",
   "metadata": {},
   "source": [
    "Load and cross reference."
   ]
  },
  {
   "cell_type": "code",
   "execution_count": 13,
   "metadata": {},
   "outputs": [
    {
     "name": "stdout",
     "output_type": "stream",
     "text": [
      "┌─┬────────────────────┬──────────┐\n",
      "│1│23 word(s) put in ->│joddevload│\n",
      "└─┴────────────────────┴──────────┘\n",
      "┌─┬────────────────────┬──────────┐\n",
      "│1│48 word(s) put in ->│joddevload│\n",
      "└─┴────────────────────┴──────────┘\n",
      "┌─┬────────────────────────────────┬──────────┐\n",
      "│1│68 word explanation(s) put in ->│joddevload│\n",
      "└─┴────────────────────────────────┴──────────┘\n",
      "┌─┬────────────────────┬──────────┐\n",
      "│1│38 test(s) put in ->│joddevload│\n",
      "└─┴────────────────────┴──────────┘\n",
      "┌─┬────────────────────────────────┬──────────┐\n",
      "│1│38 test explanation(s) put in ->│joddevload│\n",
      "└─┴────────────────────────────────┴──────────┘\n",
      "┌─┬─────────────────────┬──────────┐\n",
      "│1│18 macro(s) put in ->│joddevload│\n",
      "└─┴─────────────────────┴──────────┘\n",
      "┌─┬─────────────────────────────────┬──────────┐\n",
      "│1│18 macro explanation(s) put in ->│joddevload│\n",
      "└─┴─────────────────────────────────┴──────────┘\n",
      "┌─┬──────────────────────────┬──────────┐\n",
      "│1│group <buildjod> put in ->│joddevload│\n",
      "├─┼──────────────────────────┼──────────┤\n",
      "│1│group <jod> put in ->     │joddevload│\n",
      "├─┼──────────────────────────┼──────────┤\n",
      "│1│group <joddob> put in ->  │joddevload│\n",
      "├─┼──────────────────────────┼──────────┤\n",
      "│1│group <jodmake> put in -> │joddevload│\n",
      "├─┼──────────────────────────┼──────────┤\n",
      "│1│group <jodstore> put in ->│joddevload│\n",
      "├─┼──────────────────────────┼──────────┤\n",
      "│1│group <jodtools> put in ->│joddevload│\n",
      "├─┼──────────────────────────┼──────────┤\n",
      "│1│group <jodutil> put in -> │joddevload│\n",
      "└─┴──────────────────────────┴──────────┘\n",
      "┌─┬─────────────────────────┬──────────┐\n",
      "│1│6 group text(s) put in ->│joddevload│\n",
      "└─┴─────────────────────────┴──────────┘\n",
      "┌─┬────────────────────────────────┬──────────┐\n",
      "│1│7 group explanation(s) put in ->│joddevload│\n",
      "└─┴────────────────────────────────┴──────────┘\n",
      "┌─┬───────────────────────────────────────┬──────────┐\n",
      "│1│suite <jodbasictests> put in ->        │joddevload│\n",
      "├─┼───────────────────────────────────────┼──────────┤\n",
      "│1│suite <jodcrushtests> put in ->        │joddevload│\n",
      "├─┼───────────────────────────────────────┼──────────┤\n",
      "│1│suite <jodextensiontests> put in ->    │joddevload│\n",
      "├─┼───────────────────────────────────────┼──────────┤\n",
      "│1│suite <jodlargetests> put in ->        │joddevload│\n",
      "├─┼───────────────────────────────────────┼──────────┤\n",
      "│1│suite <jodpreparetests> put in ->      │joddevload│\n",
      "├─┼───────────────────────────────────────┼──────────┤\n",
      "│1│suite <jodpurgetests> put in ->        │joddevload│\n",
      "├─┼───────────────────────────────────────┼──────────┤\n",
      "│1│suite <jodsmoketests> put in ->        │joddevload│\n",
      "├─┼───────────────────────────────────────┼──────────┤\n",
      "│1│suite <jodstresstests> put in ->       │joddevload│\n",
      "├─┼───────────────────────────────────────┼──────────┤\n",
      "│1│suite <loadlargefeasiblecase> put in ->│joddevload│\n",
      "└─┴───────────────────────────────────────┴──────────┘\n",
      "┌─┬─────────────────────────┬──────────┐\n",
      "│1│1 suite text(s) put in ->│joddevload│\n",
      "└─┴─────────────────────────┴──────────┘\n",
      "┌─┬────────────────────────────────┬──────────┐\n",
      "│1│9 suite explanation(s) put in ->│joddevload│\n",
      "└─┴────────────────────────────────┴──────────┘\n",
      "┌─┬──────────────────────────────┬──────────┐\n",
      "│1│dictionary document updated ->│joddevload│\n",
      "└─┴──────────────────────────────┴──────────┘\n",
      "NB. end-of-JOD-dump-file regenerate cross references with:  0 globs&> }. revo '' \n",
      "┌─┬──────────────────────────────────────────────┬──────────┐\n",
      "│1│<bget> references put in ->                   │joddevload│\n",
      "├─┼──────────────────────────────────────────────┼──────────┤\n",
      "│1│<bnl> references put in ->                    │joddevload│\n",
      "├─┼──────────────────────────────────────────────┼──────────┤\n",
      "│1│<bnlsearch> references put in ->              │joddevload│\n",
      "├─┼──────────────────────────────────────────────┼──────────┤\n",
      "│1│<buildjodcompressed> references put in ->     │joddevload│\n",
      "├─┼──────────────────────────────────────────────┼──────────┤\n",
      "│1│<buildjodtoolscompressed> references put in ->│joddevload│\n",
      "└─┴──────────────────────────────────────────────┴──────────┘\n",
      "┌─┬────────────────────────────────────────────────────────────────────────────────┐\n",
      "│1│┌──────────┬──┬─────┬─────┬───────┬───────┬──────┬─────────────────────────────┐│\n",
      "│ ││          │--│Words│Tests│Groups*│Suites*│Macros│Path*                        ││\n",
      "│ │├──────────┼──┼─────┼─────┼───────┼───────┼──────┼─────────────────────────────┤│\n",
      "│ ││joddevload│rw│71   │38   │8      │9      │18    │/joddevload/jodload/utilsload││\n",
      "│ │├──────────┼──┼─────┼─────┼───────┼───────┼──────┼─────────────────────────────┤│\n",
      "│ ││jodload   │ro│768  │54   │22     │12     │61    │/jodload/utilsload           ││\n",
      "│ │├──────────┼──┼─────┼─────┼───────┼───────┼──────┼─────────────────────────────┤│\n",
      "│ ││utilsload │ro│387  │7    │21     │0      │16    │/utilsload                   ││\n",
      "│ │└──────────┴──┴─────┴─────┴───────┴───────┴──────┴─────────────────────────────┘│\n",
      "└─┴────────────────────────────────────────────────────────────────────────────────┘\n"
     ]
    }
   ],
   "source": [
    "NB. load (joddevload)\n",
    "0!:0 <jpath '~addons/general/jodsource/joddev.ijs'\n",
    "\n",
    "NB. insure at least one group exists - defines put dictionary path\n",
    "grp 'jodon';}. grp 'jodon'\n",
    "\n",
    "NB. cross reference\n",
    "smoutput 5 {. 0 globs&> }. revo '' \n",
    "\n",
    "NB. development path dictionaries\n",
    "did~ 0"
   ]
  },
  {
   "cell_type": "markdown",
   "metadata": {},
   "source": [
    "### Generate fully commented jod scripts\n",
    "\n",
    "The JOD source code dictionaries have now been restored. \n",
    "\n",
    "To generate fully commented traditional J script files for the components of the JOD system you can run a script stored in the JOD dictionaries.  This step runs this script."
   ]
  },
  {
   "cell_type": "code",
   "execution_count": 14,
   "metadata": {},
   "outputs": [
    {
     "name": "stdout",
     "output_type": "stream",
     "text": [
      "   NB.*buildjodsource s--  generates fully commented JOD source files.\n",
      "   NB.\n",
      "   NB. Files are written to the put dictionary scripts directory.\n",
      "   \n",
      "   cocurrent 'base'\n",
      "   \n",
      "   NB. JOD classes\n",
      "   (<2 _1) make&> ;:'jod jodstore joddob jodmake jodutil jodtools jodon'\n",
      "┌─┬─────────────┬────────────────────────────────────────────────────┐\n",
      "│1│file saved ->│c:/jodtest/labtesting/joddevload/script/jod.ijs     │\n",
      "├─┼─────────────┼────────────────────────────────────────────────────┤\n",
      "│1│file saved ->│c:/jodtest/labtesting/joddevload/script/jodstore.ijs│\n",
      "├─┼─────────────┼────────────────────────────────────────────────────┤\n",
      "│1│file saved ->│c:/jodtest/labtesting/joddevload/script/joddob.ijs  │\n",
      "├─┼─────────────┼────────────────────────────────────────────────────┤\n",
      "│1│file saved ->│c:/jodtest/labtesting/joddevload/script/jodmake.ijs │\n",
      "├─┼─────────────┼────────────────────────────────────────────────────┤\n",
      "│1│file saved ->│c:/jodtest/labtesting/joddevload/script/jodutil.ijs │\n",
      "├─┼─────────────┼────────────────────────────────────────────────────┤\n",
      "│1│file saved ->│c:/jodtest/labtesting/joddevload/script/jodtools.ijs│\n",
      "├─┼─────────────┼────────────────────────────────────────────────────┤\n",
      "│1│file saved ->│c:/jodtest/labtesting/joddevload/script/jodon.ijs   │\n",
      "└─┴─────────────┴────────────────────────────────────────────────────┘\n",
      "      \n",
      "┌─┬─────────┬──────────┬───────┬─────────┐\n",
      "│1│closed ->│joddevload│jodload│utilsload│\n",
      "└─┴─────────┴──────────┴───────┴─────────┘\n"
     ]
    }
   ],
   "source": [
    "NB. generate JOD script files in fully commented form.\n",
    "rm 'buildjodsource'\n",
    "\n",
    "NB. close dictionaries\n",
    "3 od ''"
   ]
  },
  {
   "cell_type": "markdown",
   "metadata": {},
   "source": [
    "### Section Rename JOD load dictionaries\n",
    "\n",
    "The JOD source code dictionaries are named (`joddev`) (`jod`) and (`utils`).  Many test and build scripts in these dictionaries make use of these names.  To dive into JOD code it's a good idea to copy and rename the load dictionaries. Uncomment and run the following lines to copy and rename the load dictionaries. \n",
    "\n",
    "**WARNING: UNCOMMENT ONLY IF YOU DO NOT ALREADY HAVE (`joddev`) (`jod`) AND (`utils`) DICTIONARIES.**"
   ]
  },
  {
   "cell_type": "code",
   "execution_count": 15,
   "metadata": {},
   "outputs": [],
   "source": [
    "NB. unregister\n",
    "NB. 3 regd&> ;:'utilsload jodload joddevload utils jod joddev'\n",
    "\n",
    "NB. clear any jod source dictionaries\n",
    "NB. Note: commands are Windows oriented. For unix systems\n",
    "NB. remove and copy directories manually.\n",
    "NB. shell 'rd /s /q \"',(jpath '~JODSOURCE\\utils'),'\"'\n",
    "NB. shell 'rd /s /q \"',(jpath '~JODSOURCE\\jod'),'\"'\n",
    "NB. shell 'rd /s /q \"',(jpath '~JODSOURCE\\joddev'),'\"'\n",
    "\n",
    "NB. copy dictionaries - /e option copies required empty subdirectories \n",
    "NB. shell 'xcopy \"',(jpath '~JODSOURCE\\utilsload'),'\" \"',(jpath '~JODSOURCE\\utils\\'),'\" /e /y'\n",
    "NB. shell 'xcopy \"',(jpath '~JODSOURCE\\jodload'),'\" \"',(jpath '~JODSOURCE\\jod\\'),'\" /e /y'\n",
    "NB. shell 'xcopy \"',(jpath '~JODSOURCE\\joddevload'),'\" \"',(jpath '~JODSOURCE\\joddev\\'),'\" /e /y'\n",
    "\n",
    "NB. re-register with new names\n",
    "NB. regd 'utils';(jpath '~JODSOURCE\\utils');'general utilities'\n",
    "NB. regd 'jod';(jpath '~JODSOURCE\\jod');'jod source code'\n",
    "NB. regd 'joddev';(jpath '~JODSOURCE\\joddev');'jod development'"
   ]
  },
  {
   "cell_type": "markdown",
   "metadata": {},
   "source": [
    "### Dump Scripts Galore!\n",
    "\n",
    "Dump scripts are the best way to save, share and version control JOD dictionaries. You can browse \n",
    "a large collection of [dump scripts in this Git repository](https://github.com/bakerjd99/joddumps)."
   ]
  },
  {
   "cell_type": "markdown",
   "metadata": {},
   "source": [
    "### Final Words\n",
    "\n",
    "This lab showed how to load dump scripts. JOD source code dictionaries were loaded.  \n",
    "To use the JOD source dictionaries make sure they are named (`joddev`), (`jod`) and (`utils`).\n",
    "\n",
    "    John Baker\n",
    "    January 2019\n",
    "    bakerjd99@gmail.com"
   ]
  },
  {
   "cell_type": "code",
   "execution_count": null,
   "metadata": {},
   "outputs": [],
   "source": []
  }
 ],
 "metadata": {
  "kernelspec": {
   "display_name": "J",
   "language": "J",
   "name": "jkernel"
  },
  "language_info": {
   "file_extension": "ijs",
   "mimetype": "text/x-J",
   "name": "J"
  }
 },
 "nbformat": 4,
 "nbformat_minor": 2
}
