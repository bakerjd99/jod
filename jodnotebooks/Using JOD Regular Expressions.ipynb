{
 "cells": [
  {
   "cell_type": "markdown",
   "metadata": {},
   "source": [
    "# Using JOD Regular Expressions\n",
    "\n",
    "![](inclusions/jodtinycube.png)"
   ]
  },
  {
   "cell_type": "markdown",
   "metadata": {},
   "source": [
    "### Introduction\n",
    "\n",
    "JOD's regular expressions are built on J's `regex` class. [`regex` is documented on the J wiki](https://code.jsoftware.com/wiki/Guides/Regular_Expressions/Verbs). I would recommend familiarizing yourself with J's `regex` facilities before using `rxs`.  \n",
    "\n",
    "`rxs` calls only three `regex` verbs: `rxfirst`, `rxall` and `rxmatches`. If you understand\n",
    "how to use these verbs you will quickly master `rxs`."
   ]
  },
  {
   "cell_type": "code",
   "execution_count": 1,
   "metadata": {
    "scrolled": true
   },
   "outputs": [
    {
     "name": "stdout",
     "output_type": "stream",
     "text": [
      "+-+--------------------------------------------------------------------------------------- ... \n",
      "|1|+----------------------------------------------+--+-----+-----+-------+-------+------+- ... \n",
      "| ||                                              |--|Words|Tests|Groups*|Suites*|Macros|P ... \n",
      "| |+----------------------------------------------+--+-----+-----+-------+-------+------+- ... \n",
      "| ||rxsdemo139348011294925134387562053815836102718|rw|0    |0    |0      |0      |0     |/ ... \n",
      "| |+----------------------------------------------+--+-----+-----+-------+-------+------+- ... \n",
      "| ||joddev                                        |rw|74   |41   |7      |9      |18    |/ ... \n",
      "| |+----------------------------------------------+--+-----+-----+-------+-------+------+- ... \n",
      "| ||jod                                           |ro|768  |54   |22     |12     |61    |/ ... \n",
      "| |+----------------------------------------------+--+-----+-----+-------+-------+------+- ... \n",
      "| ||utils                                         |ro|391  |7    |21     |0      |17    |/ ... \n",
      "| |+----------------------------------------------+--+-----+-----+-------+-------+------+- ... \n",
      "+-+--------------------------------------------------------------------------------------- ... \n"
     ]
    }
   ],
   "source": [
    "NB. load JOD in a clear base locale\n",
    "load 'general/jod' [ clear ''\n",
    "\n",
    "NB. The distributed JOD profile automatically RESETME's.\n",
    "NB. To safely use dictionaries with many J tasks they must\n",
    "NB. be READONLY. To prevent opening the same put dictionary\n",
    "NB. READWRITE comment out (dpset) and restart this notebook.\n",
    "dpset 'RESETME'\n",
    "\n",
    "NB. Converting Jupyter notebooks to LaTeX is \n",
    "NB. simplified by ASCII box characters.\n",
    "portchars ''\n",
    "\n",
    "NB. Verb to show large boxed displays in\n",
    "NB. the notebook without ugly wrapping.\n",
    "sbx=: ' ... ' ,\"1~ 90&{.\"1@\":\n",
    "\n",
    "NB. Create a test put dictionary for this notebook.\n",
    "NB. The use of (didnum) insures it does not exist.\n",
    "rxsDemo=: 'rxsdemo',\":didnum_ajod_''\n",
    "newd rxsDemo\n",
    "\n",
    "NB. unregisters any extant rxsdemo's\n",
    "NB. 3 regd&> s #~ (s=. }. od '') +./@E.&>~ <'rxsdemo'\n",
    "\n",
    "NB. open some JOD dictionaries to search\n",
    "od ;:rxsDemo,' joddev jod utils' [ 3 od ''\n",
    "sbx did ~ 0"
   ]
  },
  {
   "cell_type": "markdown",
   "metadata": {},
   "source": [
    "### `rxs` searches only nonnoun JOD text objects\n",
    "\n",
    "JOD dictionaries can store all types of J objects. It's not unusual to store binary data in JOD. The following saves some nouns in the demo dictionary."
   ]
  },
  {
   "cell_type": "code",
   "execution_count": 2,
   "metadata": {},
   "outputs": [
    {
     "name": "stdout",
     "output_type": "stream",
     "text": [
      "even though I am text I will not be searched by rxs because I am a noun\n"
     ]
    }
   ],
   "source": [
    "intTablerxsDemo=: i. 2 3 4\n",
    "floatMerxsDemo=: (100?100) % 7.71\n",
    "boxMerxsDemo=: ;:'I do what I do because I am what I am'\n",
    "bigNumsrxsDemo=: (x: i. 10) ^ 300\n",
    "smoutput charMerxsDemo=: 'even though I am text I will not be searched by rxs because I am a noun'"
   ]
  },
  {
   "cell_type": "code",
   "execution_count": 3,
   "metadata": {},
   "outputs": [
    {
     "name": "stdout",
     "output_type": "stream",
     "text": [
      "+-+-------------------+----------------------------------------------+\n",
      "|1|5 word(s) put in ->|rxsdemo139348011294925134387562053815836102718|\n",
      "+-+-------------------+----------------------------------------------+\n"
     ]
    }
   ],
   "source": [
    "NB. store nouns\n",
    "put ;:'charMerxsDemo intTablerxsDemo floatMerxsDemo boxMerxsDemo bigNumsrxsDemo'"
   ]
  },
  {
   "cell_type": "code",
   "execution_count": 4,
   "metadata": {},
   "outputs": [
    {
     "name": "stdout",
     "output_type": "stream",
     "text": [
      "+-+--------------+------------+-------------+--------------+---------------+\n",
      "|1|bigNumsrxsDemo|boxMerxsDemo|charMerxsDemo|floatMerxsDemo|intTablerxsDemo|\n",
      "+-+--------------+------------+-------------+--------------+---------------+\n"
     ]
    }
   ],
   "source": [
    "NB. list all objects with suffix rxsDemo\n",
    "0 3 dnl 'rxsDemo'"
   ]
  },
  {
   "cell_type": "markdown",
   "metadata": {},
   "source": [
    "Search for the string `rxs` in all nonnoun path words. `rxs` only displays hits\n",
    "in nonempty text. Observe that `charMerxsDemo` is not in the match table."
   ]
  },
  {
   "cell_type": "code",
   "execution_count": 5,
   "metadata": {},
   "outputs": [
    {
     "name": "stdout",
     "output_type": "stream",
     "text": [
      "+-+---------------+\n",
      "|1|+---------+---+|\n",
      "| ||rxs      |rxs||\n",
      "| |+---------+---+|\n",
      "| ||rxsget   |rxs||\n",
      "| |+---------+---+|\n",
      "| ||rxssearch|rxs||\n",
      "| |+---------+---+|\n",
      "+-+---------------+\n"
     ]
    }
   ],
   "source": [
    "'rxs' rxs }. dnl ''"
   ]
  },
  {
   "cell_type": "markdown",
   "metadata": {},
   "source": [
    "### Empty `rxs` patterns return all nonempty search text\n",
    "\n",
    "If `rxs` is given an empty pattern it returns all the text that would be searched by a nonempty pattern.\n",
    "This is useful for debugging complex regular expressions."
   ]
  },
  {
   "cell_type": "code",
   "execution_count": 6,
   "metadata": {},
   "outputs": [
    {
     "name": "stdout",
     "output_type": "stream",
     "text": [
      "+-+----------------------+\n",
      "|1|+----+---------------+|\n",
      "| ||sin |sine radians   ||\n",
      "| |+----+---------------+|\n",
      "| ||sind|sin degrees    ||\n",
      "| |+----+---------------+|\n",
      "| ||sinh|hyperbolic sine||\n",
      "| |+----+---------------+|\n",
      "+-+----------------------+\n",
      "+-+--------------------------------------------------------------------------------------- ... \n",
      "|1|+-------+------------------------------------------------------------------------------ ... \n",
      "| ||doctest|*doctest v-- test text for documentation (doc) verb.  This text is associated  ... \n",
      "| |+-------+------------------------------------------------------------------------------ ... \n",
      "+-+--------------------------------------------------------------------------------------- ... \n"
     ]
    }
   ],
   "source": [
    "NB. all nonempty short (EXPLAIN_ajod_ = 8) explanation texts\n",
    "smoutput ('';0 8 1) rxs }. dnl 'si'\n",
    "\n",
    "NB. all nonempty long (DOCUMENT_ajod_ = 9) test documents\n",
    "sbx ('';1 9 2) rxs }. 1 dnl ''"
   ]
  },
  {
   "cell_type": "markdown",
   "metadata": {},
   "source": [
    "### `rxs` searches word text by default\n",
    "\n",
    "If `rxs` is given a character list (`x`) argument it searches word text. To search documents, tests and macros `rxs` requires option codes."
   ]
  },
  {
   "cell_type": "code",
   "execution_count": 7,
   "metadata": {},
   "outputs": [
    {
     "name": "stdout",
     "output_type": "stream",
     "text": [
      "+-+-------------------+\n",
      "|1|+--------------+--+|\n",
      "| ||setbuilddirs  |ex||\n",
      "| |+--------------+--+|\n",
      "| ||setifacelinks |ex||\n",
      "| |+--------------+--+|\n",
      "| ||setifacetargs |ex||\n",
      "| |+--------------+--+|\n",
      "| ||setjodliterate|ex||\n",
      "| |+--------------+--+|\n",
      "| ||setwwwbrowser |ex||\n",
      "| |+--------------+--+|\n",
      "| ||sexpin        |ex||\n",
      "| |+--------------+--+|\n",
      "| ||strexp        |ex||\n",
      "| |+--------------+--+|\n",
      "+-+-------------------+\n"
     ]
    }
   ],
   "source": [
    "NB. words starting with s with at least one occurrence of string ex\n",
    "'ex' rxs }. dnl 's'"
   ]
  },
  {
   "cell_type": "code",
   "execution_count": 8,
   "metadata": {},
   "outputs": [
    {
     "name": "stdout",
     "output_type": "stream",
     "text": [
      "0 7 2\n",
      "+-+------------------------------------+\n",
      "|1|+--------------+-------------------+|\n",
      "| ||setbuilddirs  |+--+               ||\n",
      "| ||              ||ex|               ||\n",
      "| ||              |+--+               ||\n",
      "| |+--------------+-------------------+|\n",
      "| ||setifacelinks |+--+--+--+--+--+--+||\n",
      "| ||              ||ex|ex|ex|ex|ex|ex|||\n",
      "| ||              |+--+--+--+--+--+--+||\n",
      "| |+--------------+-------------------+|\n",
      "| ||setifacetargs |+--+--+--+--+      ||\n",
      "| ||              ||ex|ex|ex|ex|      ||\n",
      "| ||              |+--+--+--+--+      ||\n",
      "| |+--------------+-------------------+|\n",
      "| ||setjodliterate|+--+--+--+         ||\n",
      "| ||              ||ex|ex|ex|         ||\n",
      "| ||              |+--+--+--+         ||\n",
      "| |+--------------+-------------------+|\n",
      "| ||setwwwbrowser |+--+--+            ||\n",
      "| ||              ||ex|ex|            ||\n",
      "| ||              |+--+--+            ||\n",
      "| |+--------------+-------------------+|\n",
      "| ||sexpin        |+--+--+            ||\n",
      "| ||              ||ex|ex|            ||\n",
      "| ||              |+--+--+            ||\n",
      "| |+--------------+-------------------+|\n",
      "| ||strexp        |+--+--+--+         ||\n",
      "| ||              ||ex|ex|ex|         ||\n",
      "| ||              |+--+--+--+         ||\n",
      "| |+--------------+-------------------+|\n",
      "+-+------------------------------------+\n"
     ]
    }
   ],
   "source": [
    "NB. show all ex matches (option 2) for words starting with s\n",
    "smoutput opts=: WORD_ajod_,DEFAULT_ajod_,2\n",
    "('ex';opts) rxs }. dnl 's'"
   ]
  },
  {
   "cell_type": "code",
   "execution_count": 9,
   "metadata": {},
   "outputs": [
    {
     "name": "stdout",
     "output_type": "stream",
     "text": [
      "+-+--------------------------------------------------------------------------------------- ... \n",
      "|1|+--------------+-----+----------------------------------------------------------------- ... \n",
      "| ||setbuilddirs  |669 2|3 : 0  NB.*setbuilddirs v-- sets paths used by JOD build words. N ... \n",
      "| |+--------------+-----+----------------------------------------------------------------- ... \n",
      "| ||setifacelinks |162 2|4 : 0  NB.*setifacelinks  v--  set  hyperref   links  in   any  o ... \n",
      "| ||              |     |                                                                  ... \n",
      "| ||              |175 2|                                                                  ... \n",
      "| ||              |     |                                                                  ... \n",
      "| ||              |229 2|                                                                  ... \n",
      "| ||              |     |                                                                  ... \n",
      "| ||              |255 2|                                                                  ... \n",
      "| ||              |     |                                                                  ... \n",
      "| ||              |303 2|                                                                  ... \n",
      "| ||              |     |                                                                  ... \n",
      "| ||              |376 2|                                                                  ... \n",
      "| |+--------------+-----+----------------------------------------------------------------- ... \n",
      "| ||setifacetargs | 63 2|4 : 0  NB.*setifacetargs v-- set hyperlink targets in group latex ... \n",
      "| ||              |     |                                                                  ... \n",
      "| ||              |116 2|                                                                  ... \n",
      "| ||              |     |                                                                  ... \n",
      "| ||              |177 2|                                                                  ... \n",
      "| ||              |     |                                                                  ... \n",
      "| ||              |272 2|                                                                  ... \n",
      "| |+--------------+-----+----------------------------------------------------------------- ... \n",
      "| ||setjodliterate|419 2|3 : 0  NB.*setjodliterate v-- prepare for processing. NB. NB. mon ... \n",
      "| ||              |     |                                                                  ... \n",
      "| ||              |483 2|                                                                  ... \n",
      "| ||              |     |                                                                  ... \n",
      "| ||              |494 2|                                                                  ... \n",
      "| |+--------------+-----+----------------------------------------------------------------- ... \n",
      "| ||setwwwbrowser |334 2|3 : 0  NB.*setwwwbrowser v-- tests and sets the WWW browser. NB.  ... \n",
      "| ||              |     |                                                                  ... \n",
      "| ||              |363 2|                                                                  ... \n",
      "| |+--------------+-----+----------------------------------------------------------------- ... \n",
      "| ||sexpin        |11 2 |3 : 0 NB.*sexpin v-- single line explicit definition test. if.    ... \n",
      "| ||              |     |                                                                  ... \n",
      "| ||              |33 2 |                                                                  ... \n",
      "| |+--------------+-----+----------------------------------------------------------------- ... \n",
      "| ||strexp        | 14 2|3 : 0  NB.*strexp v-- returns a boxed list of words containing st ... \n",
      "| ||              |     |                                                                  ... \n",
      "| ||              |127 2|                                                                  ... \n",
      "| ||              |     |                                                                  ... \n",
      "| ||              |150 2|                                                                  ... \n",
      "| |+--------------+-----+----------------------------------------------------------------- ... \n",
      "+-+--------------------------------------------------------------------------------------- ... \n"
     ]
    }
   ],
   "source": [
    "NB. repeat previous search but now show position array (option 3) with matched text\n",
    "sbx ('ex';0 7 3) rxs }. dnl 's'"
   ]
  },
  {
   "cell_type": "code",
   "execution_count": 10,
   "metadata": {},
   "outputs": [
    {
     "name": "stdout",
     "output_type": "stream",
     "text": [
      "+-+------------------------------------------------+\n",
      "|1|+-------------------+--------------------------+|\n",
      "| ||releasejod         |'ijod'                    ||\n",
      "| |+-------------------+--------------------------+|\n",
      "| ||restdBasic01       |'createtestdictionaries'  ||\n",
      "| |+-------------------+--------------------------+|\n",
      "| ||rxsBadSmoke00      |'base'                    ||\n",
      "| |+-------------------+--------------------------+|\n",
      "| ||rxsSmoke00         |'testjod00'               ||\n",
      "| |+-------------------+--------------------------+|\n",
      "| ||rxsgetSmoke00      |'base'                    ||\n",
      "| |+-------------------+--------------------------+|\n",
      "| ||testdictionarypaths|'base'                    ||\n",
      "| |+-------------------+--------------------------+|\n",
      "| ||teststub           |'/AAAtrash999/AAAsmoke999'||\n",
      "| |+-------------------+--------------------------+|\n",
      "| ||teststubClassGroup |'{~T~}'                   ||\n",
      "| |+-------------------+--------------------------+|\n",
      "+-+------------------------------------------------+\n"
     ]
    }
   ],
   "source": [
    "NB. show first J quoted text in JOD tests with names that begin with r and t\n",
    "(Jchar_jregex_;1) rxs }. (1 dnl 'r') , }. 1 dnl 't'"
   ]
  },
  {
   "cell_type": "code",
   "execution_count": 11,
   "metadata": {},
   "outputs": [
    {
     "name": "stdout",
     "output_type": "stream",
     "text": [
      "+-+--------------------------------------------------------------------------------------- ... \n",
      "|1|+-------------------+------------------------------------------------------------------ ... \n",
      "| ||releasejod         |+------+------+-------------+-------------+------+--+------------- ... \n",
      "| ||                   ||'ijod'|'base'|'AAAtrash999'|'AAAtrash999'|'ijod'|''|'joddev jod u ... \n",
      "| ||                   |+------+------+-------------+-------------+------+--+------------- ... \n",
      "| |+-------------------+------------------------------------------------------------------ ... \n",
      "| ||restdBasic01       |+------------------------+----------+------+-----------+---------- ... \n",
      "| ||                   ||'createtestdictionaries'|'~JODTEST'|'base'|'jodtester'|'~JODTEST' ... \n",
      "| ||                   |+------------------------+----------+------+-----------+---------- ... \n",
      "| |+-------------------+------------------------------------------------------------------ ... \n",
      "| ||rxsBadSmoke00      |+------+----------+----------+-----------+-------------+---------- ... \n",
      "| ||                   ||'base'|'~JODTEST'|'~JODTEST'|'jodtester'|'AAAsmoke999'|'AAAsmoke9 ... \n",
      "| ||                   |+------+----------+----------+-----------+-------------+---------- ... \n",
      "| |+-------------------+------------------------------------------------------------------ ... \n",
      "| ||rxsSmoke00         |+-----------+--------------------+------+----------+----------+--- ... \n",
      "| ||                   ||'testjod00'|'~JODTEST/testjod00'|'base'|'~JODTEST'|'~JODTEST'|'jo ... \n",
      "| ||                   |+-----------+--------------------+------+----------+----------+--- ... \n",
      "| |+-------------------+------------------------------------------------------------------ ... \n",
      "| ||rxsgetSmoke00      |+------+----------+----------+-----------+-------------+---------- ... \n",
      "| ||                   ||'base'|'~JODTEST'|'~JODTEST'|'jodtester'|'AAAtrash999'|'AAAtrash9 ... \n",
      "| ||                   |+------+----------+----------+-----------+-------------+---------- ... \n",
      "| |+-------------------+------------------------------------------------------------------ ... \n",
      "| ||testdictionarypaths|+------+-----------+-------------+-------------+------+------+---- ... \n",
      "| ||                   ||'base'|'jodtester'|'AAAtrash999'|'AAAtrash999'|'ijod'|'good'|'JOD ... \n",
      "| ||                   |+------+-----------+-------------+-------------+------+------+---- ... \n",
      "| |+-------------------+------------------------------------------------------------------ ... \n",
      "| ||teststub           |+--------------------------+---------+------+-----------+--------- ... \n",
      "| ||                   ||'/AAAtrash999/AAAsmoke999'|'newtest'|'base'|'jodtester'|'JODCLEAR ... \n",
      "| ||                   |+--------------------------+---------+------+-----------+--------- ... \n",
      "| |+-------------------+------------------------------------------------------------------ ... \n",
      "| ||teststubClassGroup |+-------+                                                          ... \n",
      "| ||                   ||'{~T~}'|                                                          ... \n",
      "| ||                   |+-------+                                                          ... \n",
      "| |+-------------------+------------------------------------------------------------------ ... \n",
      "+-+--------------------------------------------------------------------------------------- ... \n"
     ]
    }
   ],
   "source": [
    "NB. show all J quoted text in JOD tests with names that begin with r and t\n",
    "sbx (Jchar_jregex_;1 7 2) rxs }. (1 dnl 'r') , }. 1 dnl 't'"
   ]
  },
  {
   "cell_type": "markdown",
   "metadata": {},
   "source": [
    "### `rxs` can search short and long object documents\n",
    "\n",
    "JOD words, test, groups, suites and macros are often associated with short and long documents."
   ]
  },
  {
   "cell_type": "code",
   "execution_count": 12,
   "metadata": {},
   "outputs": [
    {
     "name": "stdout",
     "output_type": "stream",
     "text": [
      "+-+-----------------------------------+\n",
      "|1|+----------------+----------------+|\n",
      "| ||wraplinear      |+--+--+--+--+--+||\n",
      "| ||                ||ra|re|re|ri|ri|||\n",
      "| ||                |+--+--+--+--+--+||\n",
      "| |+----------------+----------------+|\n",
      "| ||wrapvrblong     |+--+            ||\n",
      "| ||                ||ra|            ||\n",
      "| ||                |+--+            ||\n",
      "| |+----------------+----------------+|\n",
      "| ||wrapwords       |+--+            ||\n",
      "| ||                ||ra|            ||\n",
      "| ||                |+--+            ||\n",
      "| |+----------------+----------------+|\n",
      "| ||wrdglobals      |+--+--+         ||\n",
      "| ||                ||ra|ro|         ||\n",
      "| ||                |+--+--+         ||\n",
      "| |+----------------+----------------+|\n",
      "| ||wrdglobalsOLD000|+--+--+         ||\n",
      "| ||                ||ra|ro|         ||\n",
      "| ||                |+--+--+         ||\n",
      "| |+----------------+----------------+|\n",
      "| ||wrep            |+--+--+--+      ||\n",
      "| ||                ||ra|re|re|      ||\n",
      "| ||                |+--+--+--+      ||\n",
      "| |+----------------+----------------+|\n",
      "| ||write           |+--+            ||\n",
      "| ||                ||ri|            ||\n",
      "| ||                |+--+            ||\n",
      "| |+----------------+----------------+|\n",
      "| ||writeas         |+--+--+--+--+   ||\n",
      "| ||                ||ri|ro|ro|re|   ||\n",
      "| ||                |+--+--+--+--+   ||\n",
      "| |+----------------+----------------+|\n",
      "| ||writeijs        |+--+--+         ||\n",
      "| ||                ||ri|re|         ||\n",
      "| ||                |+--+--+         ||\n",
      "| |+----------------+----------------+|\n",
      "| ||writenoun       |+--+            ||\n",
      "| ||                ||ri|            ||\n",
      "| ||                |+--+            ||\n",
      "| |+----------------+----------------+|\n",
      "| ||writetd         |+--+            ||\n",
      "| ||                ||ri|            ||\n",
      "| ||                |+--+            ||\n",
      "| |+----------------+----------------+|\n",
      "| ||writetd2        |+--+            ||\n",
      "| ||                ||ri|            ||\n",
      "| ||                |+--+            ||\n",
      "| |+----------------+----------------+|\n",
      "+-+-----------------------------------+\n"
     ]
    }
   ],
   "source": [
    "NB. search all short (EXPLAIN_ajod_ = 8) texts for words starting with wr\n",
    "('r[aeiou]b*';0,EXPLAIN_ajod_,2) rxs }. dnl 'wr'"
   ]
  },
  {
   "cell_type": "code",
   "execution_count": 13,
   "metadata": {},
   "outputs": [
    {
     "name": "stdout",
     "output_type": "stream",
     "text": [
      "+-+--------------------------------------------------------------------------------------- ... \n",
      "|1|+-----------+-------------------------------------------------------------------------- ... \n",
      "| ||doctest    |+--------------------------+---------------------------------------------- ... \n",
      "| ||           ||long documentation of a te|lobyte strings typical operations  complete is ... \n",
      "| ||           |+--------------------------+---------------------------------------------- ... \n",
      "| |+-----------+-------------------------------------------------------------------------- ... \n",
      "| ||jodliterate|+------------+------------------------------------------+-----------+----- ... \n",
      "| ||           ||lot more use|lows pandoc source code highlighting conve|loaded like|load  ... \n",
      "| ||           |+------------+------------------------------------------+-----------+----- ... \n",
      "| |+-----------+-------------------------------------------------------------------------- ... \n",
      "| ||sunmoon    |+-------------------------+----------------------------------------------- ... \n",
      "| ||           ||loating point table where|longitude in degrees with western longitudes ne ... \n",
      "| ||           |+-------------------------+----------------------------------------------- ... \n",
      "| |+-----------+-------------------------------------------------------------------------- ... \n",
      "+-+--------------------------------------------------------------------------------------- ... \n"
     ]
    }
   ],
   "source": [
    "NB. search group (GROUP_ajod_ = 2) long document (DOCUMENT_ajod_ = 9) texts for all patterns\n",
    "sbx ('lo..*..e';GROUP_ajod_,DOCUMENT_ajod_,2) rxs }. 2 dnl ''"
   ]
  },
  {
   "cell_type": "markdown",
   "metadata": {},
   "source": [
    "### `rxs` can search the dictionary document\n",
    "\n",
    "`rxs` can search the dictionary document. "
   ]
  },
  {
   "cell_type": "code",
   "execution_count": 14,
   "metadata": {},
   "outputs": [
    {
     "name": "stdout",
     "output_type": "stream",
     "text": [
      " all work and no play make jack a dull boy all work and no play make jack a dull boy\n",
      " all work and no play make jack a dull boy all work and no play make jack a dull boy\n",
      " all work and no play make jack a dull boy all work and no play make jack a dull boy\n",
      " all work and no play make jack a dull boy all work and no play make jack a dull boy\n",
      " all work and no play make jack a dull boy all work and no play make jack a dull boy\n",
      " all work and no play make jack a dull boy all work and no play make jack a dull boy\n",
      " all work and no play make jack a dull boy all work and no play make jack a dull boy\n",
      " all work and no play make jack a dull boy all work and no play make jack a dull boy\n",
      " all work and no play make jack a dull boy all work and no play make jack a dull boy\n",
      " all work and no play make jack a dull boy all work and no play make jack a dull boy\n",
      " all work and no play make jack a dull boy all work and no play make jack a dull boy\n",
      " all work and no play make jack a dull boy all work and no play make jack a dull boy\n",
      " all work and no play make jack a dull boy all work and no play make jack a dull boy\n",
      " all work and no play make jack a dull boy all work and no play make jack a dull boy\n",
      " all work and no play make jack a dull boy all work and no play make jack a dull boy\n",
      " all work and no play make jack a dull boy all work and no play make jack a dull boy\n",
      " all work and no play make jack a dull boy all work and no play make jack a dull boy\n",
      " all work and no play make jack a dull boy all work and no play make jack a dull boy\n",
      " all work and no play make jack a dull boy all work and no play make jack a dull boy\n",
      " all work and no play make jack a dull boy all work and no play make jack a dull boy\n",
      " all work and no play make jack a dull boy all work and no play make jack a dull boy\n",
      " all work and no play make jack a dull boy all work and no play make jack a dull boy\n",
      " all work and no play make jack a dull boy all work and no play make jack a dull boy\n",
      " all work and no play make jack a dull boy all work and no play make jack a dull boy\n",
      " all work and no play make jack a dull boy all work and no play make jack a dull boy\n",
      "\n"
     ]
    }
   ],
   "source": [
    "NB. save a dictionary document (DICTIONARY_ajod_ = 5) for the rxs demo dictionary\n",
    "DICTIONARY_ajod_ put ;25 # <' all work and no play make jack a dull boy all work and no play make jack a dull boy',LF\n",
    "5 disp ''"
   ]
  },
  {
   "cell_type": "code",
   "execution_count": 15,
   "metadata": {},
   "outputs": [
    {
     "name": "stdout",
     "output_type": "stream",
     "text": [
      "+-+--------------------------------------------------------------------------------------- ... \n",
      "|1|++------------------------------------------------------------------------------------- ... \n",
      "| |||+----+----+----+----+----+----+----+----+----+----+----+----+----+----+----+----+---- ... \n",
      "| ||||jack|jack|jack|jack|jack|jack|jack|jack|jack|jack|jack|jack|jack|jack|jack|jack|jack ... \n",
      "| |||+----+----+----+----+----+----+----+----+----+----+----+----+----+----+----+----+---- ... \n",
      "| |++------------------------------------------------------------------------------------- ... \n",
      "+-+--------------------------------------------------------------------------------------- ... \n"
     ]
    }
   ],
   "source": [
    "NB. all the dull boys\n",
    "sbx ('jack';5 7 2) rxs ''"
   ]
  },
  {
   "cell_type": "markdown",
   "metadata": {},
   "source": [
    "### Final remarks\n",
    "\n",
    "`rxs` performs well for \"reasonable\" numbers of JOD objects. If you search for a complex pattern in very large \n",
    "dictionaries without restricting your search object list `rxs` may take some time. It's a good idea\n",
    "to restrict the list of searched objects whenever feasible. Typical uses of `rxs` search groups, suites\n",
    "and particular macro types. \n",
    "\n",
    "The following are typical `rxs` searches."
   ]
  },
  {
   "cell_type": "code",
   "execution_count": 16,
   "metadata": {},
   "outputs": [
    {
     "name": "stdout",
     "output_type": "stream",
     "text": [
      "+-+-------------------+\n",
      "|1|+---------+-------+|\n",
      "| ||bnlsearch|DEFAULT||\n",
      "| |+---------+-------+|\n",
      "| ||dnlsearch|DEFAULT||\n",
      "| |+---------+-------+|\n",
      "| ||mnlsearch|DEFAULT||\n",
      "| |+---------+-------+|\n",
      "+-+-------------------+\n"
     ]
    }
   ],
   "source": [
    "NB. search group \n",
    "('DEFAULT';0 7 1) rxs }. grp 'jodstore'"
   ]
  },
  {
   "cell_type": "code",
   "execution_count": 17,
   "metadata": {},
   "outputs": [
    {
     "name": "stdout",
     "output_type": "stream",
     "text": [
      "+-+-------------------------------------------------------------------------------+\n",
      "|1|+-------------------+---------------------------------------------------------+|\n",
      "| ||compjSmoke00       |+---+                                                    ||\n",
      "| ||                   ||ner|                                                    ||\n",
      "| ||                   |+---+                                                    ||\n",
      "| |+-------------------+---------------------------------------------------------+|\n",
      "| ||dnlSmoke00         |+---+---+---+---+---+---+---+---+                        ||\n",
      "| ||                   ||ner|ner|ner|ner|ner|ner|ner|ner|                        ||\n",
      "| ||                   |+---+---+---+---+---+---+---+---+                        ||\n",
      "| |+-------------------+---------------------------------------------------------+|\n",
      "| ||globsSmokeAssign000|+---+---+                                                ||\n",
      "| ||                   ||ner|ner|                                                ||\n",
      "| ||                   |+---+---+                                                ||\n",
      "| |+-------------------+---------------------------------------------------------+|\n",
      "| ||globsSmokeDoc00    |+---+                                                    ||\n",
      "| ||                   ||ner|                                                    ||\n",
      "| ||                   |+---+                                                    ||\n",
      "| |+-------------------+---------------------------------------------------------+|\n",
      "| ||mnlSmokeArgs00     |+---+---+---+---+---+---+---+---+                        ||\n",
      "| ||                   ||ner|ner|ner|ner|ner|ner|ner|ner|                        ||\n",
      "| ||                   |+---+---+---+---+---+---+---+---+                        ||\n",
      "| |+-------------------+---------------------------------------------------------+|\n",
      "| ||rxsBadSmoke00      |+---+---+---+---+---+---+---+---+---+---+---+---+        ||\n",
      "| ||                   ||ner|ner|ner|ner|ner|ner|ner|ner|ner|ner|ner|ner|        ||\n",
      "| ||                   |+---+---+---+---+---+---+---+---+---+---+---+---+        ||\n",
      "| |+-------------------+---------------------------------------------------------+|\n",
      "| ||rxsSmoke00         |+---+---+---+---+---+---+---+                            ||\n",
      "| ||                   ||ner|ner|ner|ner|ner|ner|ner|                            ||\n",
      "| ||                   |+---+---+---+---+---+---+---+                            ||\n",
      "| |+-------------------+---------------------------------------------------------+|\n",
      "| ||rxsgetSmoke00      |+---+---+---+---+---+---+---+---+---+---+---+---+---+---+||\n",
      "| ||                   ||ner|ner|ner|ner|ner|ner|ner|ner|ner|ner|ner|ner|ner|ner|||\n",
      "| ||                   |+---+---+---+---+---+---+---+---+---+---+---+---+---+---+||\n",
      "| |+-------------------+---------------------------------------------------------+|\n",
      "+-+-------------------------------------------------------------------------------+\n"
     ]
    }
   ],
   "source": [
    "NB. search test suite for all negative expected (ner) results\n",
    "('ner';1 7 2) rxs }. 3 grp 'jodsmoketests'"
   ]
  },
  {
   "cell_type": "code",
   "execution_count": 18,
   "metadata": {},
   "outputs": [
    {
     "name": "stdout",
     "output_type": "stream",
     "text": [
      "+-+--------------------------------------------------------------------------------------- ... \n",
      "|1|+--------------+----------------------------------------------------------------------- ... \n",
      "| ||historyjod    |'s Day)     * `rxs` implemented - see `jod.pdf     * [`rxs` Jupyter Lab ... \n",
      "| |+--------------+----------------------------------------------------------------------- ... \n",
      "| ||historyjoddoc |'s Day)      * `rxs` section added.     ### 0.9.996 - October 14, 2018  ... \n",
      "| |+--------------+----------------------------------------------------------------------- ... \n",
      "| ||linuxnotes_TXT|'john'                                                                  ... \n",
      "| |+--------------+----------------------------------------------------------------------- ... \n",
      "| ||macnotes_TXT  |'joddev jod utils'                                                      ... \n",
      "| |+--------------+----------------------------------------------------------------------- ... \n",
      "+-+--------------------------------------------------------------------------------------- ... \n"
     ]
    }
   ],
   "source": [
    "NB. search all (MARKDOWN_ajod_ = 27) macros (MACRO_ajod_ = 4) for J quoted text\n",
    "sbx (Jchar_jregex_;4 7 1) rxs }. (MACRO_ajod_,1,MARKDOWN_ajod_) dnl ''"
   ]
  }
 ],
 "metadata": {
  "kernelspec": {
   "display_name": "J",
   "language": "J",
   "name": "jkernel"
  },
  "language_info": {
   "file_extension": "ijs",
   "mimetype": "text/x-J",
   "name": "J"
  }
 },
 "nbformat": 4,
 "nbformat_minor": 2
}
