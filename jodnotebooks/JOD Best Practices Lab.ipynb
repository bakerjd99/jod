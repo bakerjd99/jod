{
 "cells": [
  {
   "cell_type": "markdown",
   "metadata": {},
   "source": [
    "# JOD Best Practices Lab\n",
    "\n",
    "![](inclusions/jodtinycube.png)"
   ]
  },
  {
   "cell_type": "markdown",
   "metadata": {},
   "source": [
    "### Introduction\n",
    "\n",
    "Software tools are like loaded guns: powerful weapons for slaying your coding demons but also dangerous when used improperly.  Have you ever shot yourself in the foot? I know I'm missing a few toes and I bet you are as well. \n",
    "\n",
    "This lab outlines a number of \"best practices\" or guidelines for using JOD.  I've learned the hard way; if you take my advice to heart you *might* be spared!"
   ]
  },
  {
   "cell_type": "code",
   "execution_count": 1,
   "metadata": {},
   "outputs": [],
   "source": [
    "load 'general/jod'"
   ]
  },
  {
   "cell_type": "markdown",
   "metadata": {},
   "source": [
    "### Test for JOD user defined folders\n",
    "\n",
    "**WARNING: THIS LAB REQUIRES A NUMBER OF USER DEFINED JOD FOLDERS.**\n",
    "\n",
    "This lab requires a number of JOD folders to run. The next step tests for the existence of these folders.\n",
    "\n",
    "If (`TestJODDirectories`) lists any undefined JOD directories configure these directories before running this lab. \n",
    "[Instructions on how to do this](https://github.com/jsoftware/general_joddocument/blob/master/pdfdoc/jod.pdf) can be found in (`jod.pdf`). Install the [joddocument](https://code.jsoftware.com/wiki/Addons/general/joddocument) addon to get (`jod.pdf`)."
   ]
  },
  {
   "cell_type": "code",
   "execution_count": 2,
   "metadata": {},
   "outputs": [
    {
     "name": "stdout",
     "output_type": "stream",
     "text": [
      "all JOD folders are defined\n",
      "c:/jod                     \n",
      "c:/jod/joddumps            \n",
      "c:/jodtest/labtesting      \n",
      "c:/jodtest/test            \n"
     ]
    }
   ],
   "source": [
    "TestJODDirectories_ijod_=:3 : 0\n",
    "\n",
    "NB.*TestJODDirectories v-- test user configured JOD directories.\n",
    "NB.\n",
    "NB. This  verb  checks  that  required  JOD  lab directories  are\n",
    "NB. defined. \"Defined\" does not mean the  directories  exist only\n",
    "NB. that (jpath) expands to something other than its default.\n",
    "NB.\n",
    "NB. monad:  clMsg =. TestJODDirectories uuIgnore\n",
    "\n",
    "NB. when a relative directory does not exist (jpath) echoes its argument\n",
    "jodudirs =. '~'&,&.> ;:'JOD JODDUMPS JODSOURCE JODTEST'\n",
    "jodudefs =. jpath&.> jodudirs  NB. !(*)=. jpath\n",
    "mask =. jodudirs = jodudefs\n",
    "if. 1 e. mask do.\n",
    "  > 'missing JOD folders - define before running JOD labs' ; mask # jodudirs\n",
    "else.\n",
    "  > 'all JOD folders are defined' ; jodudefs\n",
    "end.\n",
    ")\n",
    "\n",
    "TestJODDirectories 0"
   ]
  },
  {
   "cell_type": "markdown",
   "metadata": {},
   "source": [
    "### Lab cleanup\n",
    "\n",
    "**WARNING: DICTIONARIES CREATED BY PRIOR RUNS OF LAB THIS WILL BE DELETED IN THE NEXT STEP.**\n",
    "\n",
    "When the Best Practices lab runs it creates a number of dictionaries in the (`~JODSOURCE`) directory. The next step will remove any of these dictionaries.  **IF YOU CARE ABOUT THIS DATA STOP NOW.**"
   ]
  },
  {
   "cell_type": "code",
   "execution_count": 3,
   "metadata": {},
   "outputs": [],
   "source": [
    "RemoveLabBestDictionaries_ijod_=: 3 : 0\n",
    "if. IFWIN do.\n",
    "  shell 'rd /s /q \"',(jpath '~JODSOURCE'),'\"'\n",
    "  smoutput 'Lab temporary best practices (win) dictionaries erased'\n",
    "elseif. IFUNIX do.\n",
    "  NB. avoid blanks in Mac and Linux paths\n",
    "  shell 'rm -rf ',jpath '~JODSOURCE'\n",
    "  smoutput 'Lab temporary best practices (mac/linux) dictionaries erased'\n",
    "elseif.do.\n",
    "  smoutput 'Erase any previous temporary best practices dictionaries manually.'\n",
    "end.\n",
    ")"
   ]
  },
  {
   "cell_type": "markdown",
   "metadata": {},
   "source": [
    "Remove Best Practices lab dictionaries."
   ]
  },
  {
   "cell_type": "code",
   "execution_count": 4,
   "metadata": {},
   "outputs": [
    {
     "name": "stdout",
     "output_type": "stream",
     "text": [
      "Lab temporary best practices (win) dictionaries erased\n"
     ]
    }
   ],
   "source": [
    "require 'general/jod'\n",
    "\n",
    "NB. unregister dictionaries - IGNORE ERRORS\n",
    "0 0 $ 3 regd&> ;:'bpcopy bptest' [ 3 od ''\n",
    "\n",
    "NB. delete dictionary files\n",
    "RemoveLabBestDictionaries 0"
   ]
  },
  {
   "cell_type": "markdown",
   "metadata": {},
   "source": [
    "### JOD does not belong in the J tree\n",
    "\n",
    "My first and most important bit of advice is simply:\n",
    "\n",
    "**NEVER NEVER NEVER store your JOD dictionaries in J install directories!**\n",
    "\n",
    "I would also avoid any OS managed directories like\n",
    "\n",
    "    c:\\Progam Files\\..\n",
    "\n",
    "Create a JOD master dictionary directory root that is completely independent of J.  It's also a good idea to define a subdirectory structure that mirrors J's versions.  JOD creates binary `jfiles`.  These files are fairly stable but binaries can change when J changes."
   ]
  },
  {
   "cell_type": "code",
   "execution_count": 5,
   "metadata": {},
   "outputs": [
    {
     "name": "stdout",
     "output_type": "stream",
     "text": [
      "┌─┬─────────────────────┬──────┬─────────────────────────────┐\n",
      "│1│dictionary created ->│bptest│c:/jodtest/labtesting/bptest/│\n",
      "└─┴─────────────────────┴──────┴─────────────────────────────┘\n"
     ]
    }
   ],
   "source": [
    "NB. create a master JOD directory root outside of J's directories.\n",
    "NB. This creation depends on a configured directory (~JODSOURCE).\n",
    "smoutput newd 'bptest';(jpath '~JODSOURCE/bptest');'best practices test dictionary'\n",
    "\n",
    "NB. This is an example - use another root for your dictionaries."
   ]
  },
  {
   "cell_type": "markdown",
   "metadata": {},
   "source": [
    "### Load lab dictionary from dump script\n",
    "\n",
    "To illustrate key features of JOD we need a nonempty dictionary. This next step loads the (`bptest`) dictionary from a dump script distributed with JOD."
   ]
  },
  {
   "cell_type": "code",
   "execution_count": 6,
   "metadata": {},
   "outputs": [
    {
     "name": "stdout",
     "output_type": "stream",
     "text": [
      "┌─┬───────────────────┬──────┐\n",
      "│1│1 word(s) put in ->│bptest│\n",
      "└─┴───────────────────┴──────┘\n",
      "┌─┬────────────────────┬──────┐\n",
      "│1│35 word(s) put in ->│bptest│\n",
      "└─┴────────────────────┴──────┘\n",
      "┌─┬────────────────────────────────┬──────┐\n",
      "│1│36 word explanation(s) put in ->│bptest│\n",
      "└─┴────────────────────────────────┴──────┘\n",
      "┌─┬────────────────────────────┬──────┐\n",
      "│1│2 word document(s) put in ->│bptest│\n",
      "└─┴────────────────────────────┴──────┘\n",
      "┌─┬─────────────────────────┬──────┐\n",
      "│1│group <bstats> put in -> │bptest│\n",
      "├─┼─────────────────────────┼──────┤\n",
      "│1│group <sunmoon> put in ->│bptest│\n",
      "└─┴─────────────────────────┴──────┘\n",
      "NB. end-of-JOD-dump-file regenerate cross references with:  0 globs&> }. revo '' \n",
      "┌─┬─────────────────────────────────────┬──────┐\n",
      "│1│<var> references put in ->           │bptest│\n",
      "├─┼─────────────────────────────────────┼──────┤\n",
      "│1│<yeardates> references put in ->     │bptest│\n",
      "├─┼─────────────────────────────────────┼──────┤\n",
      "│1│<NORISESET> is a noun - no references│      │\n",
      "└─┴─────────────────────────────────────┴──────┘\n"
     ]
    }
   ],
   "source": [
    "NB. open new dictionary\n",
    "od 'bptest' [ 3 od ''\n",
    "\n",
    "NB. load from example dump script\n",
    "0!:0 <jpath '~addons/general/jod/jodlabs/labdump.ijs'\n",
    "\n",
    "NB. regenerate all references - show last three messages\n",
    "_3 {. 0 globs&> }. revo''"
   ]
  },
  {
   "cell_type": "markdown",
   "metadata": {},
   "source": [
    "### Backup backup backup\n",
    "\n",
    "A wise man once said, *\"You're either backed up or f&%ked up!\"* \n",
    "\n",
    "Care to go over the options again?\n",
    "\n",
    "It is literally a snap to make a backup with JOD.  So backup often!"
   ]
  },
  {
   "cell_type": "code",
   "execution_count": 7,
   "metadata": {},
   "outputs": [
    {
     "name": "stdout",
     "output_type": "stream",
     "text": [
      "┌─┬────────────────────┬──────┬─┐\n",
      "│1│dictionary packed ->│bptest│0│\n",
      "└─┴────────────────────┴──────┴─┘\n",
      "┌─┬──────────────────────┬──────┬─┐\n",
      "│1│dictionary restored ->│bptest│0│\n",
      "└─┴──────────────────────┴──────┴─┘\n"
     ]
    }
   ],
   "source": [
    "NB. open the best practice dictionary\n",
    "od 'bptest' [ 3 od ''\n",
    "\n",
    "NB. back it up\n",
    "smoutput packd 'bptest'\n",
    "\n",
    "NB. restd recovers the most current backup\n",
    "restd 'bptest'"
   ]
  },
  {
   "cell_type": "markdown",
   "metadata": {},
   "source": [
    "### Take a script dump\n",
    "\n",
    "(`packd`) backs up binary `jfiles` but it's also a good idea to \"dump\" your dictionaries as plain text.  JOD can dump all open dictionaries as a single J script. Script dumps are the most stable way to store J dictionaries.  The `jodsource` addon distributes all JOD source code in this form."
   ]
  },
  {
   "cell_type": "code",
   "execution_count": 8,
   "metadata": {},
   "outputs": [
    {
     "name": "stdout",
     "output_type": "stream",
     "text": [
      "┌─┬───────────────────────────┬────────────────────────────────────────────┐\n",
      "│1│object(s) on path dumped ->│c:/jodtest/labtesting/bptest/dump/bptest.ijs│\n",
      "└─┴───────────────────────────┴────────────────────────────────────────────┘\n"
     ]
    }
   ],
   "source": [
    "NB. dump only (bptest)\n",
    "od 'bptest' [ 3 od ''\n",
    "\n",
    "NB. (make) creates a dictionary dump in the dump subdirectory\n",
    "bptestdump=: showpass_ajod_ make ''"
   ]
  },
  {
   "cell_type": "markdown",
   "metadata": {},
   "source": [
    "### Some uses of dump scripts\n",
    "\n",
    "JOD dump scripts can be used to reload, copy and merge dictionaries."
   ]
  },
  {
   "cell_type": "code",
   "execution_count": 10,
   "metadata": {},
   "outputs": [
    {
     "name": "stdout",
     "output_type": "stream",
     "text": [
      "┌─┬───────────────────┬──────┐\n",
      "│1│1 word(s) put in ->│bptest│\n",
      "└─┴───────────────────┴──────┘\n",
      "┌─┬────────────────────┬──────┐\n",
      "│1│35 word(s) put in ->│bptest│\n",
      "└─┴────────────────────┴──────┘\n",
      "┌─┬────────────────────────────────┬──────┐\n",
      "│1│36 word explanation(s) put in ->│bptest│\n",
      "└─┴────────────────────────────────┴──────┘\n",
      "┌─┬────────────────────────────┬──────┐\n",
      "│1│2 word document(s) put in ->│bptest│\n",
      "└─┴────────────────────────────┴──────┘\n",
      "┌─┬─────────────────────────┬──────┐\n",
      "│1│group <bstats> put in -> │bptest│\n",
      "├─┼─────────────────────────┼──────┤\n",
      "│1│group <sunmoon> put in ->│bptest│\n",
      "└─┴─────────────────────────┴──────┘\n",
      "┌─┬──────────────────────────────┬──────┐\n",
      "│1│dictionary document updated ->│bptest│\n",
      "└─┴──────────────────────────────┴──────┘\n",
      "NB. end-of-JOD-dump-file regenerate cross references with:  0 globs&> }. revo '' \n"
     ]
    }
   ],
   "source": [
    "NB. reload bptest\n",
    "od 'bptest' [ 3 od ''\n",
    "0!:0 {:bptestdump"
   ]
  },
  {
   "cell_type": "markdown",
   "metadata": {},
   "source": [
    "Copy a dictionary."
   ]
  },
  {
   "cell_type": "code",
   "execution_count": 12,
   "metadata": {},
   "outputs": [
    {
     "name": "stdout",
     "output_type": "stream",
     "text": [
      "┌─┬───────────────┬──────┐\n",
      "│1│path cleared ->│bpcopy│\n",
      "└─┴───────────────┴──────┘\n"
     ]
    }
   ],
   "source": [
    "NB. copy/merge bptest dictionary\n",
    "newd 'bpcopy';jpath '~JODSOURCE/bpcopy'\n",
    "od 'bpcopy' [ 3 od ''\n",
    "0!:0 {:bptestdump\n",
    "\n",
    "\n",
    "NB. clear path\n",
    "dpset 'CLEARPATH'"
   ]
  },
  {
   "cell_type": "markdown",
   "metadata": {},
   "source": [
    "### Make a master re-register script\n",
    "\n",
    "JOD only sees the dictionaries registered in the `jmaster.ijf` file so maintaining a list of registered dictionaries is a good idea.  JOD can generate a re-register script that you can edit.  \n",
    "\n",
    "Generate a re-register script and put it in your main JOD dictionary directory root."
   ]
  },
  {
   "cell_type": "code",
   "execution_count": 13,
   "metadata": {},
   "outputs": [
    {
     "name": "stdout",
     "output_type": "stream",
     "text": [
      "NB. JOD registrations: 25 Jan 2019 15:35:12\n",
      "NB. require 'general/jod'\n",
      "3 regd&> }. od'' [ 3 od ''\n",
      "regd 'utils';'c:/jod/utils/'\n",
      "regd 'jod';'c:/jod/jod/'\n",
      "regd 'joddev';'c:/jod/joddev/'\n",
      "regd 'play';'c:/jod/play/'\n",
      "regd 'imex';'c:/jod/imex/'\n",
      "regd 'smugpyter';'c:/jod/smugpyter/'\n",
      "regd 'docs';'c:/jod/docs/'\n",
      "regd 'lab';'c:/users/jbaker/j64-807-user/joddicts/lab/'\n",
      "regd 'labdev';'c:/users/jbaker/j64-807-user/joddicts/labdev/'\n",
      "regd 'toy';'c:/users/jbaker/j64-807-user/joddicts/toy/'\n",
      "regd 'playpen';'c:/users/jbaker/j64-807-user/joddicts/playpen/'\n",
      "regd 'utilsload';'c:/jodtest/labtesting/utilsload/'\n",
      "regd 'jodload';'c:/jodtest/labtesting/jodload/'\n",
      "regd 'joddevload';'c:/jodtest/labtesting/joddevload/'\n",
      "regd 'bptest';'c:/jodtest/labtesting/bptest/'\n",
      "regd 'bpcopy';'c:/jodtest/labtesting/bpcopy/'\n"
     ]
    }
   ],
   "source": [
    "NB. generate re-register script\n",
    "rereg=: showpass_ajod_ ;{: 5 od ''\n",
    "\n",
    "NB. save it in the master root\n",
    "rereg write_ajod_ jpath '~JODSOURCE/jodregister.ijs'"
   ]
  },
  {
   "cell_type": "markdown",
   "metadata": {},
   "source": [
    "### Set library dictionaries to `READONLY`\n",
    "\n",
    "Open JOD dictionaries define a search path.  The first dictionary on the path is the only dictionary that can be changed.  It is called the \"put\" dictionary.  Even though nonput dictionaries cannot be changed by JOD it's a good idea to set them `READONLY` because:\n",
    "\n",
    "`READONLY` dictionaries can be accessed by any number of JOD tasks. `READWRITE` dictionaries can only be accessed by one task.  \n",
    "\n",
    "Keeping libraries `READONLY` prevents accidental put's as you open and close dictionaries."
   ]
  },
  {
   "cell_type": "code",
   "execution_count": 14,
   "metadata": {},
   "outputs": [
    {
     "name": "stdout",
     "output_type": "stream",
     "text": [
      "┌─┬─────────────────────────────────────────────────────────────┐\n",
      "│1│┌──────┬──┬─────┬─────┬───────┬───────┬──────┬──────────────┐│\n",
      "│ ││      │--│Words│Tests│Groups*│Suites*│Macros│Path*         ││\n",
      "│ │├──────┼──┼─────┼─────┼───────┼───────┼──────┼──────────────┤│\n",
      "│ ││bpcopy│rw│36   │0    │3      │0      │0     │/bpcopy/bptest││\n",
      "│ │├──────┼──┼─────┼─────┼───────┼───────┼──────┼──────────────┤│\n",
      "│ ││bptest│ro│36   │0    │2      │0      │0     │/bptest       ││\n",
      "│ │└──────┴──┴─────┴─────┴───────┴───────┴──────┴──────────────┘│\n",
      "└─┴─────────────────────────────────────────────────────────────┘\n"
     ]
    }
   ],
   "source": [
    "NB. make bptest READONLY\n",
    "od 'bptest' [ 3 od ''\n",
    "dpset 'READONLY'\n",
    "\n",
    "NB. bpcopy is now the put dictionary\n",
    "od ;:'bpcopy bptest' [ 3 od ''\n",
    "\n",
    "NB. first group/suite sets path\n",
    "grp 'agroup'; ;:'datecheck yeardates today sunriseset0'\n",
    "\n",
    "NB. note dictionary path\n",
    "did ~ 0"
   ]
  },
  {
   "cell_type": "markdown",
   "metadata": {},
   "source": [
    "### Keep references updated\n",
    "\n",
    "JOD stores word references.  References enable many useful operations. References allow (`getrx`) to load words that call other words in new contexts."
   ]
  },
  {
   "cell_type": "code",
   "execution_count": 15,
   "metadata": {},
   "outputs": [
    {
     "name": "stdout",
     "output_type": "stream",
     "text": [
      "┌─┬─────────────────────────────────────┬──────┐\n",
      "│1│<tan> references put in ->           │bpcopy│\n",
      "├─┼─────────────────────────────────────┼──────┤\n",
      "│1│<today> references put in ->         │bpcopy│\n",
      "├─┼─────────────────────────────────────┼──────┤\n",
      "│1│<var> references put in ->           │bpcopy│\n",
      "├─┼─────────────────────────────────────┼──────┤\n",
      "│1│<yeardates> references put in ->     │bpcopy│\n",
      "├─┼─────────────────────────────────────┼──────┤\n",
      "│1│<NORISESET> is a noun - no references│      │\n",
      "└─┴─────────────────────────────────────┴──────┘\n"
     ]
    }
   ],
   "source": [
    "NB. only put dictionary references need updating - show last five messages\n",
    "_5 {. 0 globs&> }. revo ''"
   ]
  },
  {
   "cell_type": "markdown",
   "metadata": {},
   "source": [
    "### Document dictionary objects\n",
    "\n",
    "Documentation is a long standing sore point for programmers.  Most of them hate it. Some claim it's unnecessary and even distracting.  Others put in half baked efforts. In my opinion this \"isn't even wrong!\"  Good documentation elevates code. In Knuth's opinion it separates \"literate programming\" from the alternative - \"illiterate programming.\"   \n",
    "\n",
    "JOD provides a number of easy ways to document code. You can enter a single sentence or a large dissertation.  I would recommend the former.  See JOD documentation for more documentation options."
   ]
  },
  {
   "cell_type": "code",
   "execution_count": 16,
   "metadata": {},
   "outputs": [
    {
     "name": "stdout",
     "output_type": "stream",
     "text": [
      "┌─┬───────────────────────────────┬──────┐\n",
      "│1│1 word explanation(s) put in ->│bpcopy│\n",
      "└─┴───────────────────────────────┴──────┘\n"
     ]
    }
   ],
   "source": [
    "NB. for new words try a single line of documentation.\n",
    "afterlaststr=:] }.~ #@[ + 1&(i:~)@([ E. ])\n",
    "put 'afterlaststr'\n",
    "\n",
    "NB. insert sentence\n",
    "0 8 put 'afterlaststr';'retains string (y) after last occurrence of (x)'"
   ]
  },
  {
   "cell_type": "markdown",
   "metadata": {},
   "source": [
    "JOD uses documentation in new contexts."
   ]
  },
  {
   "cell_type": "code",
   "execution_count": 17,
   "metadata": {},
   "outputs": [
    {
     "name": "stdout",
     "output_type": "stream",
     "text": [
      "NB. retains string (y) after last occurrence of (x)\n",
      "afterlaststr=:] }.~ #@[ + 1&(i:~)@([ E. ])\n",
      "┌───────────┬────────────────────────────────────────────────────────────────────────────┐\n",
      "│NORISESET  │indicates sun never rises or sets in (sunriseset0) and (sunriseset1) results│\n",
      "│arctan     │arc tangent                                                                 │\n",
      "│calmoons   │calendar dates of new and full moons                                        │\n",
      "│cos        │cosine radians                                                              │\n",
      "│datecheck  │checks dates in YYYY MM DD format                                           │\n",
      "│fromjulian │converts Julian day numbers to dates, converse (tojulian)                   │\n",
      "│moons      │times of new and full moons for n calendar years                            │\n",
      "│round      │round y to nearest x (e.g. 1000 round 12345)                                │\n",
      "│sin        │sine radians                                                                │\n",
      "│sunriseset0│computes sun rise and set times - see long documentation                    │\n",
      "│sunriseset1│computes sun rise and set times - see long documentation                    │\n",
      "│tabit      │promotes only atoms and lists to tables                                     │\n",
      "│tan        │tan radians                                                                 │\n",
      "│today      │returns todays date                                                         │\n",
      "│yeardates  │returns all valid dates for n calendar years                                │\n",
      "└───────────┴────────────────────────────────────────────────────────────────────────────┘\n"
     ]
    }
   ],
   "source": [
    "NB. for tacits the docment sentence is fetched\n",
    "smoutput disp 'afterlaststr'\n",
    "\n",
    "NB. briefly describe sunmoon group  - the payback for entering those sentences\n",
    "hlpnl }. grp 'sunmoon'"
   ]
  },
  {
   "cell_type": "markdown",
   "metadata": {},
   "source": [
    "An example of long documentation."
   ]
  },
  {
   "cell_type": "code",
   "execution_count": 18,
   "metadata": {},
   "outputs": [
    {
     "name": "stdout",
     "output_type": "stream",
     "text": [
      "*sunriseset0 v-- sunrise and sunset times.\n",
      "\n",
      "This  verb has been adapted from a BASIC program submitted by\n",
      "Robin  G.  Stuart  Sky  &  Telescope's  shortest  sunrise/set\n",
      "program  contest. Winning  entries were listed  in the  March\n",
      "1995 Astronomical Computing column.\n",
      "\n",
      "The  J version of this algorithm has been vectorized.  It can\n",
      "compute any number of sunrise and sunset times in one call.\n",
      "\n",
      "NB. verbatim:\n",
      "\n",
      "The (y) argument is a 5*n floating point table where:\n",
      "\n",
      " 0{ is latitude in degrees with northern latitudes positive.\n",
      " 1{ is longitude in degrees with western longitudes negative.\n",
      " 2{ is western time zones expressed as positive whole hours.\n",
      " 3{ is the month number.\n",
      " 4{ is the day number.\n",
      "\n",
      "The result is a numeric table with four rows.  To handle the cases\n",
      "when the sun never rises or sets the first two elements of the\n",
      "corresponding result columns n are:\n",
      "\n",
      " 0{ is NORISESET an invalid hour indicating no rise or set\n",
      " 1{ is 0 when the sun never rises\n",
      " 1{ is 1 when the sun never sets\n",
      "\n",
      "Warning: this algorithm breaks for latitudes close\n",
      "to the South pole.\n",
      "\n",
      "The original BASIC code has been slightly modified\n",
      "to use control structures in place of GOTO's and line numbers.\n",
      "\n",
      "Adapted from:\n",
      "\n",
      "' Sunrise/set by R. G. Stuart,  Mexico City, Mexico\n",
      "PI = 3.14159265#: DR = PI / 180: RD = 1 / DR\n",
      "INPUT \"Lat, Long (deg)\"; B5, L5\n",
      "INPUT \"Time zone (hrs)\"; H\n",
      "B5 = DR * B5\n",
      "INPUT \"Month, day\"; M, D\n",
      "N = INT(275 * M / 9) - 2 * INT((M + 9) / 12) + D - 30\n",
      "L0 = 4.8771 + .0172 * (N + .5 - L5 / 360)\n",
      "C = .03342 * SIN(L0 + 1.345)\n",
      "C2 = RD * (ATN(TAN(L0 + C)) - ATN(.9175 * TAN(L0 + C)) - C)\n",
      "SD = .3978 * SIN(L0 + C): CD = SQR(1 - SD * SD)\n",
      "SC = (SD * SIN(B5) + .0145) / (COS(B5) * CD)\n",
      "IF ABS(SC) <= 1 THEN\n",
      "  C3 = RD * ATN(SC / SQR(1 - SC * SC))\n",
      "  R1 = 6 - H - (L5 + C2 + C3) / 15\n",
      "  HR = INT(R1): MR = INT((R1 - HR) * 60)\n",
      "  PRINT USING \"Sunrise at ##:##\"; HR; MR\n",
      "  S1 = 18 - H - (L5 + C2 - C3) / 15\n",
      "  HS = INT(S1): MS = INT((S1 - HS) * 60)\n",
      "  PRINT USING \"Sunset at ##:##\"; HS; MS\n",
      "ELSEIF SC > 1 THEN\n",
      "  PRINT \"Sun up all day\"\n",
      "ELSEIF SC < -1 THEN\n",
      "  PRINT \"Sun down all day\"\n",
      "END IF\n",
      "END\n",
      "\n",
      "\n",
      "monad: ntRiseset =. sunriseset0 flBLHMD\n",
      "\n",
      "  NB. rise and set times at Dog Lake today (daylight savings)\n",
      "  td=. (44 + 19%60),(- 76 + 21%60), 4 , }. today 0\n",
      "  sunriseset0 td\n",
      "\n",
      "  NB. rise and set times on June 30 on Greenwich meridian\n",
      "  t0=.   0 0 0 6 30   NB. equator\n",
      "  t1=.  49 0 0 6 30   NB. north - lat of western US/Canada border\n",
      "  t2=. _47 0 0 6 30   NB. south - southern Chile and Argentina\n",
      "  t3=.  75 0 0 6 30   NB. far north (sun always up)\n",
      "  t4=. _75 0 0 6 30   NB. far south (sun always down)\n",
      "\n",
      "  sunriseset0 t0\n",
      "\n",
      "  sunriseset0 t0 , t1 , t2 , t3 ,: t4\n",
      "\n",
      "  NB. times on equator for March 21 for all 1 hour time zones\n",
      "  sunriseset0  0 0 ,\"1 (,.i. 24) ,\"1 ] 3 21\n",
      "\n",
      "  NB. times for calendar year 1995 on the Greenwich meridian\n",
      "  md95=.  47 0 0 ,\"1 }.\"1 yeardates 1995\n",
      "  rs095=. sunriseset0 md95\n",
      "\n",
      "\n",
      "\n",
      "\n",
      "\n"
     ]
    }
   ],
   "source": [
    "NB. long document\n",
    "0 9 disp 'sunriseset0'"
   ]
  },
  {
   "cell_type": "markdown",
   "metadata": {},
   "source": [
    "### Define your own JOD shortcuts\n",
    "\n",
    "JOD words can be used within arbitrary J programs.  If you don't find a JOD primitive that meets your needs do a little programming.\n",
    "\n",
    "There are many examples of JOD programming in JOD's source code. Install the `jodsource` addon to get JOD source code."
   ]
  },
  {
   "cell_type": "code",
   "execution_count": 19,
   "metadata": {},
   "outputs": [
    {
     "name": "stdout",
     "output_type": "stream",
     "text": [
      "┌─────────┬──────┬───┬───┬─────┬───┐\n",
      "│NORISESET│arctan│cos│sin│tabit│tan│\n",
      "└─────────┴──────┴───┴───┴─────┴───┘\n"
     ]
    }
   ],
   "source": [
    "NB. examples of using JOD words to define new facilities\n",
    "\n",
    "NB. describe a JOD group\n",
    "hg_ijod_=: [: hlpnl [: }. grp\n",
    "\n",
    "NB. re-reference put dictionary show any errors\n",
    "reref_ijod_=: 3 : '(n,.s) #~ -.;0{\"1 s=.0 globs&>n=.}.revo'''' [ y'\n",
    "\n",
    "NB. show words referenced by words in a group that are not in the group\n",
    "jodg_ijod_=: 'agroup'\n",
    "nx_ijod_=: 3 : '(allrefs  }. gn) -. gn=. grp jodg'\n",
    "\n",
    "NB. missing from (agroup)\n",
    "nx ''"
   ]
  },
  {
   "cell_type": "markdown",
   "metadata": {},
   "source": [
    "### Customize JOD edit facilities\n",
    "\n",
    "The main JOD edit words (`nw`) and (`ed`) can be customized by defining a `DOCUMENTCOMMAND` script."
   ]
  },
  {
   "cell_type": "code",
   "execution_count": 20,
   "metadata": {},
   "outputs": [
    {
     "name": "stdout",
     "output_type": "stream",
     "text": [
      "$$$edit$$$c:/users/jbaker/j64-807-user/temp/bpword.ijs\n"
     ]
    }
   ],
   "source": [
    "NB. define document command script - {~N~} is word name placeholder\n",
    "DOCUMENTCOMMAND_ijod_=: 0 : 0\n",
    "smoutput pr '{~N~}'\n",
    ")\n",
    "\n",
    "NB. create a new word - opens an edit window in JQT and JHS \n",
    "NB. nw 'bpword'"
   ]
  },
  {
   "cell_type": "code",
   "execution_count": null,
   "metadata": {},
   "outputs": [],
   "source": []
  }
 ],
 "metadata": {
  "kernelspec": {
   "display_name": "J",
   "language": "J",
   "name": "jkernel"
  },
  "language_info": {
   "file_extension": "ijs",
   "mimetype": "text/x-J",
   "name": "J"
  }
 },
 "nbformat": 4,
 "nbformat_minor": 2
}
