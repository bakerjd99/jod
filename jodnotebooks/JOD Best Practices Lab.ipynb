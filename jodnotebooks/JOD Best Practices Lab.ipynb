{
 "cells": [
  {
   "cell_type": "markdown",
   "metadata": {},
   "source": [
    "# JOD Best Practices Lab\n",
    "\n",
    "![](inclusions/jodteenytinycube.png)"
   ]
  },
  {
   "cell_type": "markdown",
   "metadata": {},
   "source": [
    "### Introduction\n",
    "\n",
    "Software tools are like loaded guns: powerful weapons for slaying your coding demons but also dangerous when used improperly.  Have you ever shot yourself in the foot? I know I'm missing a few toes and I bet you are as well. \n",
    "\n",
    "This lab outlines a number of \"best practices\" or guidelines for using JOD.  I've learned the hard way; if you take my advice to heart you *might* be spared!"
   ]
  },
  {
   "cell_type": "code",
   "execution_count": 1,
   "metadata": {},
   "outputs": [
    {
     "name": "stdout",
     "output_type": "stream",
     "text": [
      "j901/j64avx/windows/beta-s/commercial/www.jsoftware.com/2019-12-02T12:51:33\n"
     ]
    }
   ],
   "source": [
    "NB. show J version\n",
    "9!:14 ''"
   ]
  },
  {
   "cell_type": "code",
   "execution_count": 2,
   "metadata": {},
   "outputs": [
    {
     "name": "stdout",
     "output_type": "stream",
     "text": [
      "\n"
     ]
    }
   ],
   "source": [
    "load 'general/jod'\n",
    "\n",
    "NB. use portable box drawing characters\n",
    "portchars ''"
   ]
  },
  {
   "cell_type": "markdown",
   "metadata": {},
   "source": [
    "### Test for JOD user defined folders\n",
    "\n",
    "**WARNING: THIS LAB REQUIRES A NUMBER OF USER DEFINED JOD FOLDERS.**\n",
    "\n",
    "This lab requires a number of JOD folders to run. The next step tests for the existence of these folders.\n",
    "\n",
    "If (`TestJODDirectories`) lists any undefined JOD directories configure these directories before running this lab. \n",
    "[Instructions on how to do this](https://github.com/jsoftware/general_joddocument/blob/master/pdfdoc/jod.pdf) can be found in (`jod.pdf`). Install the [joddocument](https://code.jsoftware.com/wiki/Addons/general/joddocument) addon to get (`jod.pdf`)."
   ]
  },
  {
   "cell_type": "code",
   "execution_count": 3,
   "metadata": {},
   "outputs": [
    {
     "name": "stdout",
     "output_type": "stream",
     "text": [
      "all JOD folders are defined\n",
      "c:/jod                     \n",
      "c:/jod/joddumps            \n",
      "c:/jodtest/labtesting      \n",
      "c:/jodtest/test            \n"
     ]
    }
   ],
   "source": [
    "TestJODDirectories_ijod_=:3 : 0\n",
    "\n",
    "NB.*TestJODDirectories v-- test user configured JOD directories.\n",
    "NB.\n",
    "NB. This  verb  checks  that  required  JOD  lab directories  are\n",
    "NB. defined. \"Defined\" does not mean the  directories  exist only\n",
    "NB. that (jpath) expands to something other than its default.\n",
    "NB.\n",
    "NB. monad:  clMsg =. TestJODDirectories uuIgnore\n",
    "\n",
    "NB. when a relative directory does not exist (jpath) echoes its argument\n",
    "jodudirs =. '~'&,&.> ;:'JOD JODDUMPS JODSOURCE JODTEST'\n",
    "jodudefs =. jpath&.> jodudirs  NB. !(*)=. jpath\n",
    "mask =. jodudirs = jodudefs\n",
    "if. 1 e. mask do.\n",
    "  > 'missing JOD folders - define before running JOD labs' ; mask # jodudirs\n",
    "else.\n",
    "  > 'all JOD folders are defined' ; jodudefs\n",
    "end.\n",
    ")\n",
    "\n",
    "TestJODDirectories 0"
   ]
  },
  {
   "cell_type": "markdown",
   "metadata": {},
   "source": [
    "### Lab cleanup\n",
    "\n",
    "**WARNING: DICTIONARIES CREATED BY PRIOR RUNS OF LAB THIS WILL BE DELETED IN THE NEXT STEP.**\n",
    "\n",
    "When the Best Practices lab runs it creates a number of dictionaries in the (`~JODSOURCE`) directory. The next step will remove any of these dictionaries.  **IF YOU CARE ABOUT THESE DICTIONARIES STOP NOW.**"
   ]
  },
  {
   "cell_type": "code",
   "execution_count": 4,
   "metadata": {
    "collapsed": true
   },
   "outputs": [],
   "source": [
    "RemoveLabBestDictionaries_ijod_=: 3 : 0\n",
    "if. IFWIN do.\n",
    "  shell 'rd /s /q \"',(jpath '~JODSOURCE'),'\"'\n",
    "  smoutput 'Lab temporary best practices (win) dictionaries erased'\n",
    "elseif. IFUNIX do.\n",
    "  NB. avoid blanks in Mac and Linux paths\n",
    "  shell 'rm -rf ',jpath '~JODSOURCE'\n",
    "  smoutput 'Lab temporary best practices (mac/linux) dictionaries erased'\n",
    "elseif.do.\n",
    "  smoutput 'Erase any previous temporary best practices dictionaries manually.'\n",
    "end.\n",
    ")"
   ]
  },
  {
   "cell_type": "markdown",
   "metadata": {},
   "source": [
    "Remove Best Practices lab dictionaries."
   ]
  },
  {
   "cell_type": "code",
   "execution_count": 5,
   "metadata": {},
   "outputs": [
    {
     "name": "stdout",
     "output_type": "stream",
     "text": [
      "Lab temporary best practices (win) dictionaries erased\n"
     ]
    }
   ],
   "source": [
    "NB. clear any previously opened dictionaries in master file\n",
    "dpset 'RESETME'\n",
    "\n",
    "NB. unregister dictionaries - IGNORE ERRORS\n",
    "3 regd&> ;:'bpcopy bptest' [ 3 od ''\n",
    "\n",
    "NB. delete dictionary files\n",
    "RemoveLabBestDictionaries 0"
   ]
  },
  {
   "cell_type": "markdown",
   "metadata": {},
   "source": [
    "### JOD does not belong in the J tree\n",
    "\n",
    "My first and most important bit of advice is simply:\n",
    "\n",
    "**NEVER NEVER NEVER store your JOD dictionaries in J install directories!**\n",
    "\n",
    "I would also avoid any OS managed directories like\n",
    "\n",
    "    c:\\Progam Files\\..\n",
    "\n",
    "Create a JOD master dictionary directory root that is completely independent of J.  It's also a good idea to define a subdirectory structure that mirrors J's versions.  JOD creates binary `jfiles`.  These files are fairly stable but binaries can change when J changes."
   ]
  },
  {
   "cell_type": "code",
   "execution_count": 6,
   "metadata": {},
   "outputs": [
    {
     "name": "stdout",
     "output_type": "stream",
     "text": [
      "+-+---------------------+------+-----------------------------+\n",
      "|1|dictionary created ->|bptest|c:/jodtest/labtesting/bptest/|\n",
      "+-+---------------------+------+-----------------------------+\n"
     ]
    }
   ],
   "source": [
    "NB. create a master JOD directory root outside of J's directories.\n",
    "NB. This creation depends on a configured directory (~JODSOURCE).\n",
    "smoutput newd 'bptest';(jpath '~JODSOURCE/bptest');'best practices test dictionary'\n",
    "\n",
    "NB. This is an example - use another root for your dictionaries."
   ]
  },
  {
   "cell_type": "markdown",
   "metadata": {},
   "source": [
    "### Load lab dictionary from dump script\n",
    "\n",
    "To illustrate key features of JOD we need a nonempty dictionary. This next step loads the (`bptest`) dictionary from a dump script distributed with JOD."
   ]
  },
  {
   "cell_type": "code",
   "execution_count": 7,
   "metadata": {},
   "outputs": [
    {
     "name": "stdout",
     "output_type": "stream",
     "text": [
      "+-+-------------------+------+\n",
      "|1|1 word(s) put in ->|bptest|\n",
      "+-+-------------------+------+\n",
      "+-+--------------------+------+\n",
      "|1|35 word(s) put in ->|bptest|\n",
      "+-+--------------------+------+\n",
      "+-+--------------------------------+------+\n",
      "|1|36 word explanation(s) put in ->|bptest|\n",
      "+-+--------------------------------+------+\n",
      "+-+----------------------------+------+\n",
      "|1|2 word document(s) put in ->|bptest|\n",
      "+-+----------------------------+------+\n",
      "+-+-------------------------+------+\n",
      "|1|group <bstats> put in -> |bptest|\n",
      "+-+-------------------------+------+\n",
      "|1|group <sunmoon> put in ->|bptest|\n",
      "+-+-------------------------+------+\n",
      "NB. end-of-JOD-dump-file regenerate cross references with:  0 globs&> }. revo '' \n",
      "+-+-------------------------------------+------+\n",
      "|1|<var> references put in ->           |bptest|\n",
      "+-+-------------------------------------+------+\n",
      "|1|<yeardates> references put in ->     |bptest|\n",
      "+-+-------------------------------------+------+\n",
      "|1|<NORISESET> is a noun - no references|      |\n",
      "+-+-------------------------------------+------+\n"
     ]
    }
   ],
   "source": [
    "NB. open new dictionary\n",
    "od 'bptest' [ 3 od ''\n",
    "\n",
    "NB. load from example dump script\n",
    "0!:0 <jpath '~addons/general/jod/jodlabs/labdump.ijs'\n",
    "\n",
    "NB. regenerate all references - show last three messages\n",
    "_3 {. 0 globs&> }. revo''"
   ]
  },
  {
   "cell_type": "markdown",
   "metadata": {},
   "source": [
    "### Backup backup backup\n",
    "\n",
    "A wise man once said, *\"You're either backed up or f&%ked up!\"* \n",
    "\n",
    "*Care to go over the options again?*\n",
    "\n",
    "It is literally a snap to make a backup with JOD.  So backup often!"
   ]
  },
  {
   "cell_type": "code",
   "execution_count": 8,
   "metadata": {},
   "outputs": [
    {
     "name": "stdout",
     "output_type": "stream",
     "text": [
      "+-+--------------------+------+-+\n",
      "|1|dictionary packed ->|bptest|0|\n",
      "+-+--------------------+------+-+\n",
      "+-+----------------------+------+-+\n",
      "|1|dictionary restored ->|bptest|0|\n",
      "+-+----------------------+------+-+\n"
     ]
    }
   ],
   "source": [
    "NB. open the best practice dictionary\n",
    "od 'bptest' [ 3 od ''\n",
    "\n",
    "NB. back it up\n",
    "smoutput packd 'bptest'\n",
    "\n",
    "NB. restd recovers the most current backup\n",
    "restd 'bptest'"
   ]
  },
  {
   "cell_type": "markdown",
   "metadata": {},
   "source": [
    "### Take a script dump\n",
    "\n",
    "(`packd`) backs up binary `jfiles` but it's also a good idea to \"dump\" your dictionaries as plain text.  JOD can dump all open dictionaries as a single J script. Script dumps are the most stable way to store J dictionaries.  The `jodsource` addon distributes all JOD source code in this form. "
   ]
  },
  {
   "cell_type": "code",
   "execution_count": 9,
   "metadata": {},
   "outputs": [
    {
     "name": "stdout",
     "output_type": "stream",
     "text": [
      "+-+---------------------------+--------------------------------------------+\n",
      "|1|object(s) on path dumped ->|c:/jodtest/labtesting/bptest/dump/bptest.ijs|\n",
      "+-+---------------------------+--------------------------------------------+\n"
     ]
    }
   ],
   "source": [
    "NB. dump only (bptest)\n",
    "od 'bptest' [ 3 od ''\n",
    "\n",
    "NB. (make) creates a dictionary dump in the dump subdirectory\n",
    "bptestdump=: showpass_ajod_ make ''"
   ]
  },
  {
   "cell_type": "markdown",
   "metadata": {},
   "source": [
    "### Some uses of dump scripts\n",
    "\n",
    "JOD dump scripts can be used to reload, copy and merge dictionaries."
   ]
  },
  {
   "cell_type": "code",
   "execution_count": 10,
   "metadata": {},
   "outputs": [
    {
     "name": "stdout",
     "output_type": "stream",
     "text": [
      "+-+-------------------+------+\n",
      "|1|1 word(s) put in ->|bptest|\n",
      "+-+-------------------+------+\n",
      "+-+--------------------+------+\n",
      "|1|35 word(s) put in ->|bptest|\n",
      "+-+--------------------+------+\n",
      "+-+--------------------------------+------+\n",
      "|1|36 word explanation(s) put in ->|bptest|\n",
      "+-+--------------------------------+------+\n",
      "+-+----------------------------+------+\n",
      "|1|2 word document(s) put in ->|bptest|\n",
      "+-+----------------------------+------+\n",
      "+-+-------------------------+------+\n",
      "|1|group <bstats> put in -> |bptest|\n",
      "+-+-------------------------+------+\n",
      "|1|group <sunmoon> put in ->|bptest|\n",
      "+-+-------------------------+------+\n",
      "+-+------------------------------+------+\n",
      "|1|dictionary document updated ->|bptest|\n",
      "+-+------------------------------+------+\n",
      "NB. end-of-JOD-dump-file regenerate cross references with:  0 globs&> }. revo '' \n"
     ]
    }
   ],
   "source": [
    "NB. reload bptest\n",
    "od 'bptest' [ 3 od ''\n",
    "0!:0 {:bptestdump"
   ]
  },
  {
   "cell_type": "markdown",
   "metadata": {},
   "source": [
    "Copy a dictionary."
   ]
  },
  {
   "cell_type": "code",
   "execution_count": 11,
   "metadata": {},
   "outputs": [
    {
     "name": "stdout",
     "output_type": "stream",
     "text": [
      "+-+---------------------+------+-----------------------------+\n",
      "|1|dictionary created ->|bpcopy|c:/jodtest/labtesting/bpcopy/|\n",
      "+-+---------------------+------+-----------------------------+\n",
      "+-+-------------------+------+\n",
      "|1|1 word(s) put in ->|bpcopy|\n",
      "+-+-------------------+------+\n",
      "+-+--------------------+------+\n",
      "|1|35 word(s) put in ->|bpcopy|\n",
      "+-+--------------------+------+\n",
      "+-+--------------------------------+------+\n",
      "|1|36 word explanation(s) put in ->|bpcopy|\n",
      "+-+--------------------------------+------+\n",
      "+-+----------------------------+------+\n",
      "|1|2 word document(s) put in ->|bpcopy|\n",
      "+-+----------------------------+------+\n",
      "+-+-------------------------+------+\n",
      "|1|group <bstats> put in -> |bpcopy|\n",
      "+-+-------------------------+------+\n",
      "|1|group <sunmoon> put in ->|bpcopy|\n",
      "+-+-------------------------+------+\n",
      "+-+------------------------------+------+\n",
      "|1|dictionary document updated ->|bpcopy|\n",
      "+-+------------------------------+------+\n",
      "NB. end-of-JOD-dump-file regenerate cross references with:  0 globs&> }. revo '' \n",
      "+-+---------------+------+\n",
      "|1|path cleared ->|bpcopy|\n",
      "+-+---------------+------+\n"
     ]
    }
   ],
   "source": [
    "NB. copy/merge bptest dictionary\n",
    "smoutput newd 'bpcopy';jpath '~JODSOURCE/bpcopy'\n",
    "od 'bpcopy' [ 3 od ''\n",
    "0!:0 {:bptestdump\n",
    "\n",
    "\n",
    "NB. clear path\n",
    "dpset 'CLEARPATH'"
   ]
  },
  {
   "cell_type": "markdown",
   "metadata": {},
   "source": [
    "### Dump scripts are the best way to share and version control dictionaries\n",
    "\n",
    "Dump scripts can be used to share and version control dictionaries. See this \n",
    "Git repository for examples.\n",
    "\n",
    "[Example JOD Dump Script Repository](https://github.com/bakerjd99/joddumps)"
   ]
  },
  {
   "cell_type": "markdown",
   "metadata": {},
   "source": [
    "### Make a master re-register script\n",
    "\n",
    "JOD only sees the dictionaries registered in the `jmaster.ijf` file so maintaining a list of registered dictionaries is a good idea.  JOD can generate a re-register script that you can edit.  \n",
    "\n",
    "Generate a re-register script and put it in your main JOD dictionary directory root."
   ]
  },
  {
   "cell_type": "code",
   "execution_count": 12,
   "metadata": {},
   "outputs": [
    {
     "name": "stdout",
     "output_type": "stream",
     "text": [
      "NB. JOD registrations: 09 Dec 2019 09:16:16\n",
      "NB. require 'general/jod'\n",
      "3 regd&> }. od'' [ 3 od ''\n",
      "regd 'gps';'c:/jod/gps/'\n",
      "regd 'image';'c:/jod/image/'\n",
      "regd 'mwecc';'c:/jod/mwecc/'\n",
      "regd 'play';'c:/jod/play/'\n",
      "regd 'smug';'c:/jod/smug/'\n",
      "regd 'smugdev';'c:/jod/smugdev/'\n",
      "regd 'jodtest';'c:/jod/jodtest/'\n",
      "regd 'utils';'c:/jod/utils/'\n",
      "regd 'jod';'c:/jod/jod/'\n",
      "regd 'joddev';'c:/jod/joddev/'\n",
      "regd 'mep';'c:/jod/mep/'\n",
      "regd 'fit';'c:/fit/jod/fit/'\n",
      "regd 'fct';'c:/jod/fct/'\n",
      "regd 'bitjd';'c:/jod/bitjd/'\n",
      "regd 'bci';'c:/jod/bci/'\n",
      "regd 'docs';'c:/jod/docs/'\n",
      "regd 'imex';'c:/jod/imex/'\n",
      "regd 'smugpyter';'c:/jod/smugpyter/'\n",
      "regd 'bcidev';'c:/jod/bcidev/'\n",
      "regd 'fd';'c:/jod/fd/'\n",
      "regd 'testjod00';'c:/jodtest/test/testjod00/'\n",
      "regd 'testjod01';'c:/jodtest/test/testjod01/'\n",
      "regd 'testjod02';'c:/jodtest/test/testjod02/'\n",
      "regd 'testjod03';'c:/jodtest/test/testjod03/'\n",
      "regd 'testjod04';'c:/jodtest/test/testjod04/'\n",
      "regd 'testjod05';'c:/jodtest/test/testjod05/'\n",
      "regd 'testjod06';'c:/jodtest/test/testjod06/'\n",
      "regd 'testjod07';'c:/jodtest/test/testjod07/'\n",
      "regd 'testjod08';'c:/jodtest/test/testjod08/'\n",
      "regd 'testjod09';'c:/jodtest/test/testjod09/'\n",
      "regd 'testjod10';'c:/jodtest/test/testjod10/'\n",
      "regd 'testjod11';'c:/jodtest/test/testjod11/'\n",
      "regd 'testjod12';'c:/jodtest/test/testjod12/'\n",
      "regd 'testjod13';'c:/jodtest/test/testjod13/'\n",
      "regd 'testjod14';'c:/jodtest/test/testjod14/'\n",
      "regd 'testjod15';'c:/jodtest/test/testjod15/'\n",
      "regd 'testjod100';'c:/jodtest/test/testjod100/'\n",
      "regd 'testjod1000';'c:/jodtest/test/testjod1000/'\n",
      "regd 'rxsdemo200050854116529950128671240971375103355';'c:/users/john/j901-user/joddicts/rxsdemo200050854116529950128671240971375103355/'\n",
      "regd 'rxsdemo24347018837875837655937079410780880785';'c:/users/john/j901-user/joddicts/rxsdemo24347018837875837655937079410780880785/'\n",
      "regd 'utilsload';'c:/jodtest/labtesting/utilsload/'\n",
      "regd 'jodload';'c:/jodtest/labtesting/jodload/'\n",
      "regd 'joddevload';'c:/jodtest/labtesting/joddevload/'\n",
      "regd 'lab';'c:/users/john/j901-user/joddicts/lab/'\n",
      "regd 'labdev';'c:/users/john/j901-user/joddicts/labdev/'\n",
      "regd 'toy';'c:/users/john/j901-user/joddicts/toy/'\n",
      "regd 'playpen';'c:/users/john/j901-user/joddicts/playpen/'\n",
      "regd 'bptest';'c:/jodtest/labtesting/bptest/'\n",
      "regd 'bpcopy';'c:/jodtest/labtesting/bpcopy/'\n"
     ]
    }
   ],
   "source": [
    "NB. generate re-register script\n",
    "rereg=: showpass_ajod_ ;{: 5 od ''\n",
    "\n",
    "NB. save it in the master root\n",
    "rereg write_ajod_ jpath '~JODSOURCE/jodregister.ijs'"
   ]
  },
  {
   "cell_type": "markdown",
   "metadata": {},
   "source": [
    "### Set library dictionaries to `READONLY`\n",
    "\n",
    "Open JOD dictionaries define a search path.  The first dictionary on the path is the only dictionary that can be changed.  It is called the \"put\" dictionary.  Even though nonput dictionaries cannot be changed by JOD it's a good idea to set them `READONLY` because:\n",
    "\n",
    "`READONLY` dictionaries can be accessed by any number of JOD tasks. `READWRITE` dictionaries can only be accessed by one task.  \n",
    "\n",
    "Keeping libraries `READONLY` prevents accidental put's as you open and close dictionaries."
   ]
  },
  {
   "cell_type": "code",
   "execution_count": 13,
   "metadata": {},
   "outputs": [
    {
     "name": "stdout",
     "output_type": "stream",
     "text": [
      "+-+-------------------------------------------------------------+\n",
      "|1|+------+--+-----+-----+-------+-------+------+--------------+|\n",
      "| ||      |--|Words|Tests|Groups*|Suites*|Macros|Path*         ||\n",
      "| |+------+--+-----+-----+-------+-------+------+--------------+|\n",
      "| ||bpcopy|rw|36   |0    |3      |0      |0     |/bpcopy/bptest||\n",
      "| |+------+--+-----+-----+-------+-------+------+--------------+|\n",
      "| ||bptest|ro|36   |0    |2      |0      |0     |/bptest       ||\n",
      "| |+------+--+-----+-----+-------+-------+------+--------------+|\n",
      "+-+-------------------------------------------------------------+\n"
     ]
    }
   ],
   "source": [
    "NB. make bptest READONLY\n",
    "od 'bptest' [ 3 od ''\n",
    "dpset 'READONLY'\n",
    "\n",
    "NB. bpcopy is now the put dictionary\n",
    "od ;:'bpcopy bptest' [ 3 od ''\n",
    "\n",
    "NB. first group/suite sets path\n",
    "grp 'agroup'; ;:'datecheck yeardates today sunriseset0'\n",
    "\n",
    "NB. note dictionary path\n",
    "did ~ 0"
   ]
  },
  {
   "cell_type": "markdown",
   "metadata": {},
   "source": [
    "### Keep references updated\n",
    "\n",
    "JOD stores word references.  References enable many useful operations. References allow (`getrx`) to load words that call other words in new contexts."
   ]
  },
  {
   "cell_type": "code",
   "execution_count": 14,
   "metadata": {},
   "outputs": [
    {
     "name": "stdout",
     "output_type": "stream",
     "text": [
      "+-+-------------------------------------+------+\n",
      "|1|<tan> references put in ->           |bpcopy|\n",
      "+-+-------------------------------------+------+\n",
      "|1|<today> references put in ->         |bpcopy|\n",
      "+-+-------------------------------------+------+\n",
      "|1|<var> references put in ->           |bpcopy|\n",
      "+-+-------------------------------------+------+\n",
      "|1|<yeardates> references put in ->     |bpcopy|\n",
      "+-+-------------------------------------+------+\n",
      "|1|<NORISESET> is a noun - no references|      |\n",
      "+-+-------------------------------------+------+\n"
     ]
    }
   ],
   "source": [
    "NB. only put dictionary references need updating - show last five messages\n",
    "_5 {. 0 globs&> }. revo ''"
   ]
  },
  {
   "cell_type": "markdown",
   "metadata": {},
   "source": [
    "### Document dictionary objects\n",
    "\n",
    "Documentation is a long standing sore point for programmers.  Most of them hate it. Some claim it's unnecessary and even distracting.  Others put in half baked efforts. In my opinion this \"isn't even wrong!\"  Good documentation elevates code. In [Knuth's opinion](http://www.literateprogramming.com/knuthweb.pdf) it separates \"literate programming\" from the alternative - \"illiterate programming.\"   \n",
    "\n",
    "JOD provides a number of easy ways to document code. You can enter a single sentence or a large dissertation.  I would recommend the former.  See JOD documentation for more documentation options."
   ]
  },
  {
   "cell_type": "code",
   "execution_count": 15,
   "metadata": {},
   "outputs": [
    {
     "name": "stdout",
     "output_type": "stream",
     "text": [
      "+-+-------------------------------+------+\n",
      "|1|1 word explanation(s) put in ->|bpcopy|\n",
      "+-+-------------------------------+------+\n"
     ]
    }
   ],
   "source": [
    "NB. for new words try a single line of documentation.\n",
    "afterlaststr=:] }.~ #@[ + 1&(i:~)@([ E. ])\n",
    "put 'afterlaststr'\n",
    "\n",
    "NB. insert sentence\n",
    "0 8 put 'afterlaststr';'retains string (y) after last occurrence of (x)'"
   ]
  },
  {
   "cell_type": "markdown",
   "metadata": {},
   "source": [
    "JOD uses documentation in new contexts."
   ]
  },
  {
   "cell_type": "code",
   "execution_count": 16,
   "metadata": {},
   "outputs": [
    {
     "name": "stdout",
     "output_type": "stream",
     "text": [
      "NB. retains string (y) after last occurrence of (x)\n",
      "afterlaststr=:] }.~ #@[ + 1&(i:~)@([ E. ])\n",
      "+-----------+----------------------------------------------------------------------------+\n",
      "|NORISESET  |indicates sun never rises or sets in (sunriseset0) and (sunriseset1) results|\n",
      "|arctan     |arc tangent                                                                 |\n",
      "|calmoons   |calendar dates of new and full moons                                        |\n",
      "|cos        |cosine radians                                                              |\n",
      "|datecheck  |checks dates in YYYY MM DD format                                           |\n",
      "|fromjulian |converts Julian day numbers to dates, converse (tojulian)                   |\n",
      "|moons      |times of new and full moons for n calendar years                            |\n",
      "|round      |round y to nearest x (e.g. 1000 round 12345)                                |\n",
      "|sin        |sine radians                                                                |\n",
      "|sunriseset0|computes sun rise and set times - see long documentation                    |\n",
      "|sunriseset1|computes sun rise and set times - see long documentation                    |\n",
      "|tabit      |promotes only atoms and lists to tables                                     |\n",
      "|tan        |tan radians                                                                 |\n",
      "|today      |returns todays date                                                         |\n",
      "|yeardates  |returns all valid dates for n calendar years                                |\n",
      "+-----------+----------------------------------------------------------------------------+\n"
     ]
    }
   ],
   "source": [
    "NB. for tacits the docment sentence is fetched\n",
    "smoutput disp 'afterlaststr'\n",
    "\n",
    "NB. briefly describe sunmoon group  - the payback for entering those sentences\n",
    "hlpnl }. grp 'sunmoon'"
   ]
  },
  {
   "cell_type": "markdown",
   "metadata": {},
   "source": [
    "An example of long documentation."
   ]
  },
  {
   "cell_type": "code",
   "execution_count": 17,
   "metadata": {},
   "outputs": [
    {
     "name": "stdout",
     "output_type": "stream",
     "text": [
      "*sunriseset0 v-- sunrise and sunset times.\n",
      "\n",
      "This  verb has been adapted from a BASIC program submitted by\n",
      "Robin  G.  Stuart  Sky  &  Telescope's  shortest  sunrise/set\n",
      "program  contest. Winning  entries were listed  in the  March\n",
      "1995 Astronomical Computing column.\n",
      "\n",
      "The  J version of this algorithm has been vectorized.  It can\n",
      "compute any number of sunrise and sunset times in one call.\n",
      "\n",
      "NB. verbatim:\n",
      "\n",
      "The (y) argument is a 5*n floating point table where:\n",
      "\n",
      " 0{ is latitude in degrees with northern latitudes positive.\n",
      " 1{ is longitude in degrees with western longitudes negative.\n",
      " 2{ is western time zones expressed as positive whole hours.\n",
      " 3{ is the month number.\n",
      " 4{ is the day number.\n",
      "\n",
      "The result is a numeric table with four rows.  To handle the cases\n",
      "when the sun never rises or sets the first two elements of the\n",
      "corresponding result columns n are:\n",
      "\n",
      " 0{ is NORISESET an invalid hour indicating no rise or set\n",
      " 1{ is 0 when the sun never rises\n",
      " 1{ is 1 when the sun never sets\n",
      "\n",
      "Warning: this algorithm breaks for latitudes close\n",
      "to the South pole.\n",
      "\n",
      "The original BASIC code has been slightly modified\n",
      "to use control structures in place of GOTO's and line numbers.\n",
      "\n",
      "Adapted from:\n",
      "\n",
      "' Sunrise/set by R. G. Stuart,  Mexico City, Mexico\n",
      "PI = 3.14159265#: DR = PI / 180: RD = 1 / DR\n",
      "INPUT \"Lat, Long (deg)\"; B5, L5\n",
      "INPUT \"Time zone (hrs)\"; H\n",
      "B5 = DR * B5\n",
      "INPUT \"Month, day\"; M, D\n",
      "N = INT(275 * M / 9) - 2 * INT((M + 9) / 12) + D - 30\n",
      "L0 = 4.8771 + .0172 * (N + .5 - L5 / 360)\n",
      "C = .03342 * SIN(L0 + 1.345)\n",
      "C2 = RD * (ATN(TAN(L0 + C)) - ATN(.9175 * TAN(L0 + C)) - C)\n",
      "SD = .3978 * SIN(L0 + C): CD = SQR(1 - SD * SD)\n",
      "SC = (SD * SIN(B5) + .0145) / (COS(B5) * CD)\n",
      "IF ABS(SC) <= 1 THEN\n",
      "  C3 = RD * ATN(SC / SQR(1 - SC * SC))\n",
      "  R1 = 6 - H - (L5 + C2 + C3) / 15\n",
      "  HR = INT(R1): MR = INT((R1 - HR) * 60)\n",
      "  PRINT USING \"Sunrise at ##:##\"; HR; MR\n",
      "  S1 = 18 - H - (L5 + C2 - C3) / 15\n",
      "  HS = INT(S1): MS = INT((S1 - HS) * 60)\n",
      "  PRINT USING \"Sunset at ##:##\"; HS; MS\n",
      "ELSEIF SC > 1 THEN\n",
      "  PRINT \"Sun up all day\"\n",
      "ELSEIF SC < -1 THEN\n",
      "  PRINT \"Sun down all day\"\n",
      "END IF\n",
      "END\n",
      "\n",
      "\n",
      "monad: ntRiseset =. sunriseset0 flBLHMD\n",
      "\n",
      "  NB. rise and set times at Dog Lake today (daylight savings)\n",
      "  td=. (44 + 19%60),(- 76 + 21%60), 4 , }. today 0\n",
      "  sunriseset0 td\n",
      "\n",
      "  NB. rise and set times on June 30 on Greenwich meridian\n",
      "  t0=.   0 0 0 6 30   NB. equator\n",
      "  t1=.  49 0 0 6 30   NB. north - lat of western US/Canada border\n",
      "  t2=. _47 0 0 6 30   NB. south - southern Chile and Argentina\n",
      "  t3=.  75 0 0 6 30   NB. far north (sun always up)\n",
      "  t4=. _75 0 0 6 30   NB. far south (sun always down)\n",
      "\n",
      "  sunriseset0 t0\n",
      "\n",
      "  sunriseset0 t0 , t1 , t2 , t3 ,: t4\n",
      "\n",
      "  NB. times on equator for March 21 for all 1 hour time zones\n",
      "  sunriseset0  0 0 ,\"1 (,.i. 24) ,\"1 ] 3 21\n",
      "\n",
      "  NB. times for calendar year 1995 on the Greenwich meridian\n",
      "  md95=.  47 0 0 ,\"1 }.\"1 yeardates 1995\n",
      "  rs095=. sunriseset0 md95\n",
      "\n",
      "\n",
      "\n",
      "\n",
      "\n"
     ]
    }
   ],
   "source": [
    "NB. long document\n",
    "0 9 disp 'sunriseset0'"
   ]
  },
  {
   "cell_type": "markdown",
   "metadata": {},
   "source": [
    "### Define your own JOD shortcuts\n",
    "\n",
    "JOD words can be used within arbitrary J programs.  If you don't find a JOD primitive that meets your needs do a little programming.\n",
    "\n",
    "There are many examples of JOD programming in JOD's source code. Install the `jodsource` addon to get JOD source code."
   ]
  },
  {
   "cell_type": "code",
   "execution_count": 18,
   "metadata": {},
   "outputs": [
    {
     "name": "stdout",
     "output_type": "stream",
     "text": [
      "+---------+------+---+---+-----+---+\n",
      "|NORISESET|arctan|cos|sin|tabit|tan|\n",
      "+---------+------+---+---+-----+---+\n"
     ]
    }
   ],
   "source": [
    "NB. examples of using JOD words to define new facilities\n",
    "\n",
    "NB. describe a JOD group\n",
    "hg_ijod_=: [: hlpnl [: }. grp\n",
    "\n",
    "NB. re-reference put dictionary show any errors\n",
    "reref_ijod_=: 3 : '(n,.s) #~ -.;0{\"1 s=.0 globs&>n=.}.revo'''' [ y'\n",
    "\n",
    "NB. show words referenced by words in a group that are not in the group\n",
    "jodg_ijod_=: 'agroup'\n",
    "nx_ijod_=: 3 : '(allrefs  }. gn) -. gn=. grp jodg'\n",
    "\n",
    "NB. missing from (agroup)\n",
    "nx ''"
   ]
  },
  {
   "cell_type": "markdown",
   "metadata": {},
   "source": [
    "### Customize JOD edit facilities\n",
    "\n",
    "The main JOD edit words (`nw`) and (`ed`) can be customized by defining a `DOCUMENTCOMMAND` script.\n",
    "\n",
    "*Note: Verbs that spawn J editors may not work in Jupyter labs.  The following (`nw`) call\n",
    "opens a JQT or JHS editor in standard J front ends but does nothing here. This is because\n",
    "the J kernal is essentially a barebones `jconsole.exe` process that is is not running JQT.*"
   ]
  },
  {
   "cell_type": "code",
   "execution_count": 19,
   "metadata": {
    "collapsed": true
   },
   "outputs": [],
   "source": [
    "NB. define document command script - {~N~} is word name placeholder\n",
    "DOCUMENTCOMMAND_ijod_=: 0 : 0\n",
    "smoutput pr '{~N~}'\n",
    ")\n",
    "\n",
    "NB. create a new word - opens an edit window in JQT and JHS \n",
    "NB. nw 'bpword'"
   ]
  },
  {
   "cell_type": "markdown",
   "metadata": {},
   "source": [
    "Find the (`bpword`) edit window and note how `DOCUMENTCOMMAND` text has been modified and insert.  When the script window is saved with CRTL-W `DOCUMENTCOMMAND` runs.\n",
    "\n",
    "Run and close the (`bpword`) edit window.\n",
    "\n",
    "Edit a word in the dictionary.  ***JOD is always editing copies.*** Originals can only be changed with explicit (`put`) operations."
   ]
  },
  {
   "cell_type": "code",
   "execution_count": 20,
   "metadata": {},
   "outputs": [
    {
     "name": "stdout",
     "output_type": "stream",
     "text": [
      "$$$edit$$$c:/users/john/j901-user/temp/sunriseset0.ijs\n"
     ]
    }
   ],
   "source": [
    "NB. load dictionary word into edit window - requires JQT or JHS front ends\n",
    "ed 'sunriseset0'\n",
    "\n",
    "NB. find the (sunriseset0) edit window and note DOCUMENTCOMMAND \n",
    "\n",
    "NB. close edit window"
   ]
  },
  {
   "cell_type": "markdown",
   "metadata": {},
   "source": [
    "### Define JOD project macros\n",
    "\n",
    "When programming with JOD you typically open a set of dictionaries. Load system scripts and define some handy nouns.  This can be done in a project macro script."
   ]
  },
  {
   "cell_type": "code",
   "execution_count": 21,
   "metadata": {},
   "outputs": [
    {
     "name": "stdout",
     "output_type": "stream",
     "text": [
      "+-+--------------------+------+\n",
      "|1|1 macro(s) put in ->|bpcopy|\n",
      "+-+--------------------+------+\n"
     ]
    }
   ],
   "source": [
    "NB. define a project macro - I use the prefix prj for such scripts\n",
    "prjsunmoon=: 0 : 0\n",
    "\n",
    "NB. standard j scripts\n",
    "require 'debug task'\n",
    "\n",
    "NB. local script nouns \n",
    "jodg_ijod_=: 'sunmoon'\n",
    "jods_ijod_=: 'sunmoontests'\n",
    "\n",
    "NB. put/xref\n",
    "DOCUMENTCOMMAND_z_ =: 'smoutput pr ''{~N~}'''\n",
    ")\n",
    "\n",
    "NB. store macro\n",
    "4 put 'prjsunmoon';JSCRIPT_ajod_;prjsunmoon"
   ]
  },
  {
   "cell_type": "markdown",
   "metadata": {},
   "source": [
    "Once project macros are defined it's easy to configure your J session. Open the required dictionaries and run the macor with (`rm`)."
   ]
  },
  {
   "cell_type": "code",
   "execution_count": 22,
   "metadata": {},
   "outputs": [
    {
     "name": "stdout",
     "output_type": "stream",
     "text": [
      "   NB. standard j scripts\n",
      "   require 'debug task'\n",
      "   NB. local script nouns \n",
      "   jodg_ijod_=: 'sunmoon'\n",
      "   jods_ijod_=: 'sunmoontests'\n",
      "   NB. put/xref\n",
      "   DOCUMENTCOMMAND_z_ =: 'smoutput pr ''{~N~}'''\n",
      "   \n"
     ]
    }
   ],
   "source": [
    "NB. setup project\n",
    "rm 'prjsunmoon'  [ od ;:'bpcopy bptest' [ 3 od ''"
   ]
  },
  {
   "cell_type": "markdown",
   "metadata": {},
   "source": [
    "### Edit your `jodprofile.ijs`\n",
    "\n",
    "When JOD loads the script (`~addons/general/jod/jodprofile.ijs`) is executed. This script can be used to set up JOD the way you want. Note how you can execute project macros when JOD loads with sentences like:\n",
    "\n",
    "    rm 'prjsunmoon' [ od ;:'bpcopy bptest'\n",
    "\n",
    "WARNING: store your profile in one of your dictionaries.  This file is reset when JAL updates the JOD addon."
   ]
  },
  {
   "cell_type": "code",
   "execution_count": 23,
   "metadata": {},
   "outputs": [
    {
     "name": "stdout",
     "output_type": "stream",
     "text": [
      "NB.*jodprofile s-- JOD dictionary profile.\n",
      "NB.\n",
      "NB. An example JOD profile script. Save this script in\n",
      "NB.\n",
      "NB. ~addons/general/jod/\n",
      "NB.\n",
      "NB. with the name jodprofile.ijs\n",
      "NB.\n",
      "NB. This script  is  executed  after all dictionary  objects have\n",
      "NB. been created. It  can  be used  to  set up  your default  JOD\n",
      "NB. working environment.\n",
      "NB.\n",
      "NB. WARNING: Do not dpset 'RESETME' if more than one  JOD task is\n",
      "NB. active. If only one task is active RESETME's prevent annoying\n",
      "NB. already open  messages that frequently result from forgetting\n",
      "NB. to close dictionaries upon exiting J.\n",
      "NB.\n",
      "NB. Note to  J developers. A shutdown sentence (a line  of J  the\n",
      "NB. interpretor  executes  before   terminating)  would  be  very\n",
      "NB. useful.\n",
      "NB.\n",
      "NB. author: John D. Baker\n",
      "NB. email:  bakerjd99@gmail.com\n",
      "\n",
      "NB. set white space preservation on\n",
      "9!:41 [ 1\n",
      "\n",
      "NB. minimum print precision to show yyyymmdd dates (see jodage)\n",
      "9!:11 [ 8\n",
      "\n",
      "NB. set jqt windows console size - automatic for linux/mac/ios\n",
      "Cwh_j_=: 160 24\n",
      "\n",
      "NB. do not reset if you are running more than one JOD instance\n",
      "NB. multiple JOD instances are permitted but not recommended\n",
      "dpset 'RESETME'\n",
      "\n",
      "NB. JOD interface locale - (ijod) is a good place for ad hoc JOD addons\n",
      "coclass 'ijod'\n",
      "\n",
      "NB. override EDCONSOLE - set (jconsole.exe) editor - use full path\n",
      "NB. NIMP: currently EDCONSOLE is windows only - see verb (et) \n",
      "EDCONSOLE_ajodutil_=: '\"c:\\Program Files\\Microsoft VS Code\\code.exe\"'\n",
      "NB. EDCONSOLE_ajodutil_=: '\"c:\\Program Files (x86)\\notepad++\\notepad++.exe\"'\n",
      "\n",
      "NB. used by some macros: WHEREAMI=: ;0 { ;:'home work test'\n",
      "NB. WHEREAMI=: 'home'\n",
      "\n",
      "NB. (ijod) error/ message text\n",
      "ERRIJOD00=: 'current group name (jodg_ijod_) not set'\n",
      "ERRIJOD01=: 'current suite name (jods_ijod_) not set'\n",
      "OKIJOD00=:  'no matches'\n",
      "\n",
      "NB. add delete objects from current group or current suite\n",
      "ag=: 3 : 0\n",
      "if. wex_ajod_ <'jodg' do. jodg addgrp y else. jderr_ajod_ ERRIJOD00 end.\n",
      ")\n",
      "as=: 3 : 0\n",
      "if. wex_ajod_ <'jods' do. (jods;3) addgrp y else. jderr_ajod_ ERRIJOD01 end.\n",
      ")\n",
      "dg=: 3 : 0\n",
      "if. wex_ajod_ <'jodg' do. jodg delgrp y else. jderr_ajod_ ERRIJOD00 end.\n",
      ")\n",
      "ds=: 3 : 0\n",
      "if. wex_ajod_ <'jods' do. (jods;3) delgrp y else. jderr_ajod_ ERRIJOD01 end. \n",
      ")\n",
      "   \n",
      "NB. referenced words not in current group\n",
      "nx=: 3 : 0\n",
      "if. -.wex_ajod_ <'jodg' do. jderr_ajod_ ERRIJOD00 return. end.\n",
      "if. badrc_ajod_ gn=. grp jodg do. gn return. end.\n",
      "(allrefs  }. gn) -. gn\n",
      ")\n",
      "   \n",
      "NB. words in current group using a word\n",
      "ug=: 3 : 0\n",
      "if. -.wex_ajod_ <'jodg' do. jderr_ajod_ ERRIJOD00 return. end.\n",
      "if. badrc_ajod_ gn=. grp jodg do. gn return. end.\n",
      "y usedby }. gn\n",
      ")\n",
      "   \n",
      "NB. generate current group and save load script\n",
      "sg=: 3 : 0\n",
      "if. wex_ajod_ <'jodg' do. mls jodg else. jderr_ajod_ ERRIJOD01 end. \n",
      ")\n",
      "\n",
      "NB. top (put dictionary) words, groups, suites in revision order\n",
      "tw=: revo\n",
      "tg=: 2&revo\n",
      "ts=: 3&revo\n",
      "\n",
      "NB. run tautology as plaintest - does not stop on nonzero results\n",
      "rt=: 2&rtt\n",
      "\n",
      "NB. run macro silently - will show explict smoutput\n",
      "rs=: 1&rm\n",
      "\n",
      "NB. short help for groups/suites\n",
      "hg=: [: hlpnl [: }. grp\n",
      "hs=: 1 hlpnl [: }. 3 grp ]\n",
      "\n",
      "NB. short help on put objects in revised order from code:\n",
      "NB.     hr 4  NB. macro\n",
      "NB.     hr 2  NB. groups\n",
      "NB.  10 hr 0  NB. last ten words\n",
      "hr=: 3 : 0\n",
      "if. badrc_ajod_ w=. y revo '' do. w return. end.\n",
      "y hlpnl }. w\n",
      ":\n",
      "if. badrc_ajod_ w=. y revo '' do. w return. end.\n",
      "y hlpnl x {. }. w\n",
      ")\n",
      "\n",
      "NB. search short help for string and list matching words\n",
      "NB.     hss 'see long'   NB. search word short text \n",
      "NB.  2  hss 'see long'   NB. search group short text\n",
      "NB.  4  hss 'post'       NB. search macro short text \n",
      "hss=: 3 : 0\n",
      "0 hss y\n",
      ":\n",
      "if. badrc_ajod_ w=. x dnl ''   do. w return. end.\n",
      "d=. x hlpnl }. w\n",
      "if. 0=#w=. 1 >@{ d             do. ok_ajod_ OKIJOD00 return. end.\n",
      "if. 0=#s=. I. (,:y) +./\"1@E. w do. ok_ajod_ OKIJOD00 return. end.\n",
      "s&{ &.> d\n",
      ")\n",
      "\n",
      "NB. single line explanation \n",
      "NB.    slex 'word'         NB. word\n",
      "NB.  4 slex 'jodregister'  NB. macro\n",
      "NB.  1 slex 'thistest'     NB. test\n",
      "slex=: 3 : 0\n",
      "0 slex y\n",
      ":\n",
      "if. badcl_ajod_ sl=. x disp y do. sl return. end.\n",
      "(x,8) put y;firstcomment__JODtools sl\n",
      ")\n",
      "\n",
      "NB. regenerate put dictionary word cross references\n",
      "reref=: 3 : 0\n",
      "if. badrc_ajod_ n=. revo '' do. n return. end.\n",
      "(n,.s) #~ -.;0{\"1 s=.0 globs&> n=.}.n\n",
      ")\n",
      "\n",
      "NB. handy cl doc helpers\n",
      "docscr=: 3 : 'ctl_ajod_ (61;0;0;''NB.'') docct2__UT__JODobj ];._1 LF,y-.CR'\n",
      "doctxt=: 3 : 'ctl_ajod_ (61;0;0;'''') docct2__UT__JODobj ];._1 LF,y-.CR'\n",
      "\n",
      "NB. display noun on screen and return noun value\n",
      "showpass=:] [ 1!:2&2\n",
      "\n",
      "NB. portable box drawing characters\n",
      "portchars=:[: 9!:7 '+++++++++|-'\"_ [ ]\n",
      "\n",
      "NB. windows lucida console box drawing characters\n",
      "winlcchars=:[: 9!:7 (a.{~16+i.11)\"_ [ ]\n",
      "\n",
      "NB. edit command \n",
      "DOCUMENTCOMMAND=: 'showpass pr ''{~N~}'''\n",
      "\n",
      "NB. read & write files\n",
      "read=:1!:1&(]`<@.(32&>@(3!:0)))\n",
      "write=:1!:2 ]`<@.(32&>@(3!:0))\n",
      "readnoun=:3!:2@(1!:1&(]`<@.(32&>@(3!:0))))\n",
      "writenoun=:([: 3!:1 [) (1!:2 ]`<@.(32&>@(3!:0))) ]\n",
      "\n",
      "NB. read TAB delimited table files - faster than (readtd) - see long document in (utils)\n",
      "readtd2=:[: <;._2&> (9{a.) ,&.>~ [: <;._2 [: (] , ((10{a.)\"_ = {:) }. (10{a.)\"_) (13{a.) -.~ 1!:1&(]`<@.(32&>@(3!:0)))\n",
      "\n",
      "NB. writes tables as TAB delimited LF terminated text - see long document in (utils)\n",
      "writetd2=:] (1!:2 ]`<@.(32&>@(3!:0)))~ [: ([: (] , ((10{a.)\"_ = {:) }. (10{a.)\"_) [: }.@(,@(1&(,\"1)@(-.@(*./\\.\"1@(=&' '@])))) # ,@((10{a.)&(,\"1)@])) [: }.\"1 [: ;\"1 (9{a.)&,@\":&.>) [\n",
      "\n",
      "NB. fetch edit text/macros and associate code\n",
      "tt=:] ; gt\n",
      "mt=:] ; 25\"_ ; gt   NB. *.txt\n",
      "mj=:] ; 21\"_ ; gt   NB. *.ijs\n",
      "md=:] ; 27\"_ ; gt   NB. *.markdown\n",
      "mq=:] ; 30\"_ ; gt   NB. *.sql\n",
      "mx=:] ; 22\"_ ; gt   NB. *.tex\n",
      "\n",
      "NB. ~user/temp object text - default j script\n",
      "os=: 'ijs'&$: : ([: jpath '~user/temp/' , (' ' -.~ ]) , '.' , ' ' -.~ [)\n",
      " \n",
      "NB. read text from j user temp directory\n",
      "jt=:[: read os\n",
      " \n",
      "NB.  load j script from j user temp\n",
      "jl=: (0!:0)@jt\n",
      "\n",
      "NB. load j script from configured j path\n",
      "jp=: [: 0!:0 [: < jpath\n",
      "\n",
      "NB. number of objects - used by various (utils) macros (sizeput, ageput, ...) if present\n",
      "NOBS=: 10\n",
      "\n",
      "NB. where am I used by some macros values 'work' or 'home'\n",
      "NB. WHEREAMI=: 'work'\n",
      "\n",
      "NB. dump drive - used by (utils) macro (dumpput) if present\n",
      "NB. DUMPWINDRV=: 'h:'\n",
      "\n",
      "NB. dump paths - used by (utils) macro (dumpput) if present\n",
      "NB. DUMPPATH=: '/jod/joddumps/'\n",
      "NB. DUMPPRVPATH=: '/jod/jodprvdumps/'\n",
      "\n",
      "NB. clear dictionaries - used by (utils) macro (clearput) if present\n",
      "NB. CLEARJDICS=: ;:''\n",
      "\n",
      "NB. JOD verbs typically run from the base locale \n",
      "cocurrent 'base'\n",
      "\n",
      "NB. examples of JOD session start ups - shows\n",
      "NB. how to open dictionaries and invoke project macros\n",
      "\n",
      "NB. set up current project (1 suppress IO, 0 or elided display)\n",
      "NB. 1 rm 'prjsmughacking' [ smoutput od ;:'smugdev smug utils' [ 3 od ''\n",
      "NB. 1 rm 'prjmep' [ od 'mep' [ 3 od ''\n",
      "\n"
     ]
    }
   ],
   "source": [
    "NB. display jodprofile.ijs\n",
    "smoutput read_ajod_ jpath'~addons/general/jod/jodprofile.ijs'"
   ]
  },
  {
   "cell_type": "markdown",
   "metadata": {},
   "source": [
    "### Use JOD help and documentation\n",
    "\n",
    "\n",
    "Install the (`general/joddocument`) addon to use JOD PDF help. "
   ]
  },
  {
   "cell_type": "code",
   "execution_count": 24,
   "metadata": {},
   "outputs": [
    {
     "name": "stdout",
     "output_type": "stream",
     "text": [
      "c:/j64/j64-901beta/addons/general/joddocument/pdfdoc/jod.pdf\n",
      "+-+-------------------+\n",
      "|1|starting PDF reader|\n",
      "+-+-------------------+\n"
     ]
    }
   ],
   "source": [
    "NB. location of jod.pdf - install addon (general/joddocument) with JAL\n",
    "smoutput jpath '~addons/general/joddocument/pdfdoc/jod.pdf'\n",
    "\n",
    "NB. opens jod.pdf if a pdf reader is available on your system\n",
    "jodhelp 0"
   ]
  },
  {
   "cell_type": "markdown",
   "metadata": {},
   "source": [
    "### Summary and final remarks\n",
    "\n",
    "1. JOD DOES NOT BELONG IN THE J TREE\n",
    "\n",
    "2. BACKUP BACKUP BACKUP\n",
    "\n",
    "3. TAKE A SCRIPT DUMP\n",
    "\n",
    "4. MAKE A MASTER RE-REGISTER SCRIPT\n",
    "\n",
    "5. SET LIBRARY DICTIONARIES TO READONLY\n",
    "\n",
    "6. KEEP REFERENCES UPDATED\n",
    "\n",
    "7. DOCUMENT DICTIONARY OBJECTS\n",
    "\n",
    "8. DEFINE YOUR OWN JOD SHORTCUTS\n",
    "\n",
    "9. CUSTOMIZE JOD EDIT FACILITIES\n",
    "\n",
    "10. DEFINE JOD PROJECT MACROS\n",
    "\n",
    "11. EDIT YOUR `jodprofile.ijs`\n",
    "\n",
    "12. USE JOD HELP AND DOCUMENTATION\n",
    "\n",
    "These are just some of the JOD practices I have found useful. As you use JOD you will probably find your own methods.  \n",
    "\n",
    "If you find an a useful method please let me know. I can be reached at:\n",
    "\n",
    "    John Baker \n",
    "    December 2019\n",
    "    bakerjd99@gmail.com"
   ]
  }
 ],
 "metadata": {
  "kernelspec": {
   "display_name": "J",
   "language": "J",
   "name": "jkernel"
  },
  "language_info": {
   "file_extension": "ijs",
   "mimetype": "text/x-J",
   "name": "J"
  }
 },
 "nbformat": 4,
 "nbformat_minor": 2
}
