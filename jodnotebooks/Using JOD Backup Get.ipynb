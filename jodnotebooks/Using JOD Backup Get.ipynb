{
 "cells": [
  {
   "cell_type": "markdown",
   "metadata": {},
   "source": [
    "# Using JOD Backup Get `bget`\n",
    "\n",
    "![](inclusions/jodteenytinycube.png)"
   ]
  },
  {
   "cell_type": "markdown",
   "metadata": {},
   "source": [
    "### Introduction\n",
    "\n",
    "In addition to restoring entire dictionary backups with `restd` JOD also supports\n",
    "fetching individual objects from particular backups with `bget` and `bnl`.\n",
    "\n",
    "If you screw up part of a larger system restoring *all the code* may create more problems than it solves. \n",
    "Usually you only want [*the good bits*](https://www.youtube.com/watch?v=wPiHQ37gXnE) of a backup. \n",
    "\n",
    "**`bget` is your good bits [huckleberry](https://www.youtube.com/watch?v=R8OWNspU_yE).**\n"
   ]
  },
  {
   "cell_type": "code",
   "execution_count": 1,
   "metadata": {},
   "outputs": [
    {
     "name": "stdout",
     "output_type": "stream",
     "text": [
      "j901/j64avx/windows/beta-s/commercial/www.jsoftware.com/2019-12-02T12:51:33\n"
     ]
    }
   ],
   "source": [
    "NB. display J version\n",
    "9!:14''"
   ]
  },
  {
   "cell_type": "markdown",
   "metadata": {},
   "source": [
    "The following examples assume you have installed the JOD development dictionaries (`joddev`), (`jod`), and (`utils`).\n",
    "\n",
    "Use [JAL](https://code.jsoftware.com/wiki/JAL/User_Guide) to install \n",
    "the [JODSOURCE addon](https://code.jsoftware.com/wiki/Addons/general/jodsource) and follow the instructions to load  (`joddev`), (`jod`), and (`utils`)."
   ]
  },
  {
   "cell_type": "code",
   "execution_count": 2,
   "metadata": {
    "scrolled": true
   },
   "outputs": [
    {
     "name": "stdout",
     "output_type": "stream",
     "text": [
      "+-+----------------------------------------------------------------+\n",
      "|1|+------+--+-----+-----+-------+-------+------+-----------------+|\n",
      "| ||      |--|Words|Tests|Groups*|Suites*|Macros|Path*            ||\n",
      "| |+------+--+-----+-----+-------+-------+------+-----------------+|\n",
      "| ||joddev|rw|32   |8    |2      |1      |12    |/joddev/jod/utils||\n",
      "| |+------+--+-----+-----+-------+-------+------+-----------------+|\n",
      "| ||jod   |ro|782  |67   |22     |13     |61    |/jod/utils       ||\n",
      "| |+------+--+-----+-----+-------+-------+------+-----------------+|\n",
      "| ||utils |ro|392  |7    |21     |0      |17    |/utils           ||\n",
      "| |+------+--+-----+-----+-------+-------+------+-----------------+|\n",
      "+-+----------------------------------------------------------------+\n"
     ]
    }
   ],
   "source": [
    "NB. load JOD in a clear base locale\n",
    "load 'general/jod' [ clear ''\n",
    "\n",
    "NB. The distributed JOD profile automatically RESETME's.\n",
    "NB. To safely use dictionaries with many J tasks they must\n",
    "NB. be READONLY. To prevent opening the same put dictionary\n",
    "NB. READWRITE comment out (dpset) and restart this notebook.\n",
    "dpset 'RESETME'\n",
    "\n",
    "NB. Converting Jupyter notebooks to LaTeX is \n",
    "NB. simplified by ASCII box characters.\n",
    "portchars ''\n",
    "\n",
    "NB. Verb to show large boxed displays in\n",
    "NB. the notebook without ugly wrapping.\n",
    "sbx=: ' ... ' ,\"1~ 90&{.\"1@\":\n",
    "\n",
    "NB. open some JOD dictionaries to search\n",
    "od ;:'joddev jod utils' [ 3 od ''\n",
    "did ~ 0"
   ]
  },
  {
   "cell_type": "markdown",
   "metadata": {},
   "source": [
    "### `bnl` lists available backups\n",
    "\n",
    "JOD binary backups are created with `packd`. When  `packd` is run it copies current dictionary files to the backup folder and renames them with an ever increasing backup number prefix."
   ]
  },
  {
   "cell_type": "code",
   "execution_count": 3,
   "metadata": {},
   "outputs": [
    {
     "name": "stdout",
     "output_type": "stream",
     "text": [
      "+-+---+---+---+---+---+---+---+---+---+---+---+---+---+---+---+---+---+---+---+---+---+--- ... \n",
      "|1|.84|.83|.82|.81|.80|.79|.78|.77|.76|.75|.74|.73|.72|.71|.70|.69|.68|.67|.66|.65|.64|.63 ... \n",
      "+-+---+---+---+---+---+---+---+---+---+---+---+---+---+---+---+---+---+---+---+---+---+--- ... \n"
     ]
    }
   ],
   "source": [
    "NB. list all available put dictionary backups\n",
    "sbx bnl '.'"
   ]
  },
  {
   "cell_type": "markdown",
   "metadata": {},
   "source": [
    "### `bnl` lists objects in backups\n",
    "\n",
    "`bnl` lists objects in backups. See jod.pdf for more details."
   ]
  },
  {
   "cell_type": "code",
   "execution_count": 4,
   "metadata": {},
   "outputs": [
    {
     "name": "stdout",
     "output_type": "stream",
     "text": [
      "+-+-----------+----------+----------+----------+-----------------+---------------------+-- ... \n",
      "|1|bgetSmoke00|bnlBasic01|bnlSmoke00|bnlSmoke01|getDictextSmoke00|loadtest100dictionary|pu ... \n",
      "+-+-----------+----------+----------+----------+-----------------+---------------------+-- ... \n",
      ".10\n",
      "+-+---------------+--------------------+----------+-----------+-------------------+------- ... \n",
      "|1|JODBUILDHISTORY|JODTOOLSBUILDHISTORY|historyjod|manifestjod|manifestjoddocument|manifes ... \n",
      "+-+---------------+--------------------+----------+-----------+-------------------+------- ... \n",
      "+-+---------------+--------------------+\n",
      "|1|JODBUILDHISTORY|JODTOOLSBUILDHISTORY|\n",
      "+-+---------------+--------------------+\n"
     ]
    }
   ],
   "source": [
    "NB. list all words in last backup\n",
    "smoutout sbx bnl ''\n",
    "\n",
    "NB. list all test cases in last backup\n",
    "smoutput sbx 1 bnl ''\n",
    "\n",
    "NB. oldest backup\n",
    "smoutput OldestBnum=: ; {: bnl '.'\n",
    "\n",
    "NB. list all macros in oldest backup\n",
    "smoutput sbx 4 bnl OldestBnum\n",
    "\n",
    "NB. list all macros with names starting with \"JOD\" in the oldest backup\n",
    "4 bnl 'JOD',OldestBnum"
   ]
  },
  {
   "cell_type": "markdown",
   "metadata": {},
   "source": [
    "### `abv` a backup name list helper verb\n",
    "\n",
    "To streamline the search for backup objects the following helper verb \n",
    "uses `bnl` to return valid backup name lists for objects."
   ]
  },
  {
   "cell_type": "code",
   "execution_count": 5,
   "metadata": {
    "collapsed": true
   },
   "outputs": [],
   "source": [
    "NB. define in JOD's interface locale\n",
    "abv_ijod_=:3 : 0\n",
    "\n",
    "NB.*abv v-- all backup version names.\n",
    "NB.\n",
    "NB. Returns all valid backup names matching name prefix (y). \n",
    "NB.\n",
    "NB. monad:  blclBNames =. abv zl|clPfx\n",
    "NB.\n",
    "NB.   abv 'ch'  NB. all words in all backups starting with 'ch'\n",
    "NB.   abv ''    NB. all words in all backups\n",
    "NB.\n",
    "NB. dyad:   blclBNames =. il abv zl|clPfx\n",
    "NB.\n",
    "NB.   2 abv 'jod'  NB. all group names in all backups starting with 'jod'\n",
    "NB.   4 abv ''     NB. all macros in all backups\n",
    "\n",
    "0 abv y NB. word default\n",
    ":\n",
    "if. badcl_ajod_ y do. jderr_ajod_ ERR002_ajod_ return. end.\n",
    "if. -.isempty_ajod_ y do. if. badrc_ajod_ uv=.  checknames_ajod_ y do. uv return. else. y=. rv_ajod_ uv end. end. \n",
    "if. badrc_ajod_ uv=. x bnl '.' do. uv return. else. bn=. }.uv end.\n",
    "\n",
    "NB. names matching prefix in all backups\n",
    "pfx=. (<a:) -.&.>~ }.@(x&bnl)&.> (<y) ,&.> bn\n",
    "b=. 0 < #&> pfx \n",
    "\n",
    "NB. return backup names from most recent to older backups\n",
    "\\:~ ;<\"1@;\"1&.> (b # pfx) ,\"0&.> <\"0 b # bn\n",
    ")"
   ]
  },
  {
   "cell_type": "markdown",
   "metadata": {},
   "source": [
    "`abv` returns backup names from most recent to oldest. The order derives from backup numbers."
   ]
  },
  {
   "cell_type": "code",
   "execution_count": 6,
   "metadata": {},
   "outputs": [
    {
     "name": "stdout",
     "output_type": "stream",
     "text": [
      "+--------------------------+--------------------------+--------------------------+-------- ... \n",
      "|buildjodtoolscompressed.67|buildjodtoolscompressed.66|buildjodtoolscompressed.65|buildjod ... \n",
      "+--------------------------+--------------------------+--------------------------+-------- ... \n"
     ]
    }
   ],
   "source": [
    "NB. all words in all backups beginning with 'b'\n",
    "sbx abv 'bu'"
   ]
  },
  {
   "cell_type": "code",
   "execution_count": 7,
   "metadata": {},
   "outputs": [
    {
     "name": "stdout",
     "output_type": "stream",
     "text": [
      "buildjod.66 buildjod.65 buildjod.64 buildjod.63 buildjod.62 buildjod.61 \n",
      "buildjod.60 buildjod.59 buildjod.58 buildjod.57 buildjod.56 buildjod.55 \n",
      "buildjod.54 buildjod.53 buildjod.52 buildjod.51 buildjod.50 buildjod.49 \n",
      "buildjod.48 buildjod.47 buildjod.46 buildjod.45 buildjod.44 buildjod.43 \n",
      "buildjod.42 buildjod.41 buildjod.40 buildjod.39 buildjod.38 buildjod.37 \n",
      "buildjod.36 buildjod.35 buildjod.34                                     \n"
     ]
    }
   ],
   "source": [
    "NB. all groups in all backups starting with \"build\" - note the backup suffix numbers\n",
    "80 list }. 2 abv 'build'"
   ]
  },
  {
   "cell_type": "markdown",
   "metadata": {},
   "source": [
    "### `bget` fetches objects from backups\n",
    "\n",
    "`bget` fetches objects from backups. See jod.pdf for more details.\n",
    "\n",
    "Unlike `get` the verb `bget` does not define fetched objects in locales. The reason\n",
    "for this is simple, `bget` may return many versions of the same object. Which one should you restore?\n",
    "JOD lets the user decide."
   ]
  },
  {
   "cell_type": "code",
   "execution_count": 8,
   "metadata": {},
   "outputs": [
    {
     "name": "stdout",
     "output_type": "stream",
     "text": [
      "bgetobjects\n",
      "+-+--------------------------------------------------------------------------------------- ... \n",
      "|1|+--------------+-+--------------------------------------------------------------------- ... \n",
      "| ||bgetobjects_84|3|4 : 0  NB.*bgetobjects v-- get objects from backups. NB. NB. dyad: il ... \n",
      "| |+--------------+-+--------------------------------------------------------------------- ... \n",
      "+-+--------------------------------------------------------------------------------------- ... \n"
     ]
    }
   ],
   "source": [
    "NB. select a random word from the last backup\n",
    "AllWords=: }. bnl''\n",
    "smoutput RandWord=: ;(?#AllWords) { AllWords\n",
    "\n",
    "NB. fetch the word\n",
    "sbx bget RandWord"
   ]
  },
  {
   "cell_type": "markdown",
   "metadata": {},
   "source": [
    "### `bget` can fetch many objects\n",
    "\n",
    "`bget` can fetch many objects. The objects are returned in boxed name, class and value tables. For words and macros\n",
    "these tables have three columns for other objects there are two columns."
   ]
  },
  {
   "cell_type": "code",
   "execution_count": 9,
   "metadata": {},
   "outputs": [
    {
     "name": "stdout",
     "output_type": "stream",
     "text": [
      "+-------------+-+------------------------------------------------------------------------- ... \n",
      "|releasejod_84|3|4 : 0  NB.*releasejod v-- final JOD release steps. NB. NB. dyad:  blVersi ... \n",
      "+-------------+-+------------------------------------------------------------------------- ... \n",
      "|releasejod_83|3|4 : 0  NB.*releasejod v-- final JOD release steps. NB. NB. dyad:  blVersi ... \n",
      "+-------------+-+------------------------------------------------------------------------- ... \n",
      "|releasejod_82|3|4 : 0  NB.*releasejod v-- final JOD release steps. NB. NB. dyad:  blVersi ... \n",
      "+-------------+-+------------------------------------------------------------------------- ... \n",
      "|releasejod_81|3|4 : 0  NB.*releasejod v-- final JOD release steps. NB. NB. dyad:  blVersi ... \n",
      "+-------------+-+------------------------------------------------------------------------- ... \n",
      "|releasejod_80|3|4 : 0  NB.*releasejod v-- final JOD release steps. NB. NB. dyad:  blVersi ... \n",
      "+-------------+-+------------------------------------------------------------------------- ... \n"
     ]
    }
   ],
   "source": [
    "NB. fetch the last five versions of words starting with \"release\"\n",
    "NB. NOTE: the backup number suffixes of the names in the first column of (ncv)\n",
    "'rc ncv'=: bget 5 {. abv 'release'\n",
    "sbx ncv"
   ]
  },
  {
   "cell_type": "code",
   "execution_count": 10,
   "metadata": {},
   "outputs": [
    {
     "name": "stdout",
     "output_type": "stream",
     "text": [
      "+--------------+---------------------------+                                               ... \n",
      "|bchecknames_84|checks backup name patterns|                                               ... \n",
      "+--------------+---------------------------+                                               ... \n",
      "|bchecknames_83|checks backup name patterns|                                               ... \n",
      "+--------------+---------------------------+                                               ... \n",
      "|bchecknames_82|checks backup name patterns|                                               ... \n",
      "+--------------+---------------------------+                                               ... \n",
      "|bchecknames_81|checks backup name patterns|                                               ... \n",
      "+--------------+---------------------------+                                               ... \n",
      "|bchecknames_80|checks backup name patterns|                                               ... \n",
      "+--------------+---------------------------+                                               ... \n",
      "|bchecknames_79|checks backup name patterns|                                               ... \n",
      "+--------------+---------------------------+                                               ... \n",
      "|bchecknames_78|checks backup name patterns|                                               ... \n",
      "+--------------+---------------------------+                                               ... \n",
      "|bchecknames_77|checks backup name patterns|                                               ... \n",
      "+--------------+---------------------------+                                               ... \n",
      "|bchecknames_76|checks backup name patterns|                                               ... \n",
      "+--------------+---------------------------+                                               ... \n",
      "|bchecknames_75|checks backup name patterns|                                               ... \n",
      "+--------------+---------------------------+                                               ... \n"
     ]
    }
   ],
   "source": [
    "NB. fetch the last ten versions of the short explanations of all words starting with \"bc\"\n",
    "'rc ncv'=: 0 8 bget 10 {. abv 'bc'\n",
    "sbx ncv"
   ]
  },
  {
   "cell_type": "markdown",
   "metadata": {},
   "source": [
    "### `bget` results can be edited with `ed`\n",
    "\n",
    "`bget` name, class and value tables can be edited with the JOD `ed` verb. JOD `ed` works\n",
    "differently depending on what J IDE you are using but the basic approach is to generate\n",
    "script text from object data, write the script to a file, and then open a J editor. The following examples\n",
    "illustrate typical uses."
   ]
  },
  {
   "cell_type": "code",
   "execution_count": 11,
   "metadata": {},
   "outputs": [
    {
     "name": "stdout",
     "output_type": "stream",
     "text": [
      "$$$edit$$$c:/users/john/j901-user/temp/bchecknames_84.ijs\n"
     ]
    }
   ],
   "source": [
    "NB. edit the most recent version of a word\n",
    "'rc ncv'=: bget 'bchecknames'\n",
    "ed ncv"
   ]
  },
  {
   "cell_type": "code",
   "execution_count": 12,
   "metadata": {},
   "outputs": [
    {
     "name": "stdout",
     "output_type": "stream",
     "text": [
      "+-----------+----------------------------------------------------------------------------- ... \n",
      "|jod_84     |NB. *jod c-- main JOD dictionary class.  NB.  NB. All other dictionary classe ... \n",
      "+-----------+----------------------------------------------------------------------------- ... \n",
      "|jodstore_84|NB.*jodstore c-- storage object class: extension of (jod).  NB.  NB. Hides th ... \n",
      "+-----------+----------------------------------------------------------------------------- ... \n",
      "$$$edit$$$c:/users/john/j901-user/temp/jod_84.ijs\n"
     ]
    }
   ],
   "source": [
    "NB. edit all group header text\n",
    "'rc ncv'=: 2 bget }. 2 bnl ''\n",
    "smoutput sbx ncv\n",
    "ed ncv"
   ]
  },
  {
   "cell_type": "code",
   "execution_count": 13,
   "metadata": {},
   "outputs": [
    {
     "name": "stdout",
     "output_type": "stream",
     "text": [
      "manifestjoddocument_84 manifestjoddocument_83 manifestjoddocument_82 \n",
      "manifestjoddocument_81 manifestjoddocument_80 manifestjoddocument_79 \n",
      "manifestjoddocument_78 manifestjoddocument_77 manifestjoddocument_76 \n",
      "manifestjoddocument_75 manifestjoddocument_74 manifestjoddocument_73 \n",
      "manifestjoddocument_72 manifestjoddocument_71 manifestjoddocument_70 \n",
      "manifestjoddocument_69 manifestjoddocument_68 manifestjoddocument_67 \n",
      "manifestjoddocument_66 manifestjoddocument_65 manifestjoddocument_64 \n",
      "manifestjoddocument_63 manifestjoddocument_62 manifestjoddocument_61 \n",
      "manifestjoddocument_60 manifestjoddocument_59 manifestjoddocument_58 \n",
      "manifestjoddocument_57 manifestjoddocument_56 manifestjoddocument_55 \n",
      "manifestjoddocument_54 manifestjoddocument_53 manifestjoddocument_52 \n",
      "manifestjoddocument_51 manifestjoddocument_50 manifestjoddocument_49 \n",
      "manifestjoddocument_48 manifestjoddocument_47 manifestjoddocument_46 \n",
      "manifestjoddocument_45 manifestjoddocument_44 manifestjoddocument_43 \n",
      "manifestjoddocument_42 manifestjoddocument_41 manifestjoddocument_40 \n",
      "manifestjoddocument_39 manifestjoddocument_38 manifestjoddocument_37 \n",
      "manifestjoddocument_36 manifestjoddocument_35 manifestjoddocument_34 \n",
      "manifestjoddocument_33 manifestjoddocument_32 manifestjoddocument_31 \n",
      "manifestjoddocument_30 manifestjoddocument_29 manifestjoddocument_28 \n",
      "manifestjoddocument_27 manifestjoddocument_26 manifestjoddocument_25 \n",
      "manifestjoddocument_24 manifestjoddocument_23 manifestjoddocument_22 \n",
      "manifestjoddocument_21 manifestjoddocument_20 manifestjoddocument_19 \n",
      "manifestjoddocument_18 manifestjoddocument_17 manifestjoddocument_16 \n",
      "manifestjoddocument_15 manifestjoddocument_14 manifestjoddocument_13 \n",
      "manifestjoddocument_12 manifestjoddocument_11 manifestjoddocument_10 \n",
      "$$$edit$$$c:/users/john/j901-user/temp/manifestjoddocument_84.ijs\n"
     ]
    }
   ],
   "source": [
    "NB. edit all versions of all macros that begin with \"manifestjoddoc\"\n",
    "'rc ncv'=: 4 bget 4 abv 'manifestjoddoc'\n",
    "smoutput 80 list 0 {\"1 ncv\n",
    "ed ncv"
   ]
  },
  {
   "cell_type": "markdown",
   "metadata": {},
   "source": [
    "### Final remarks\n",
    "\n",
    "`bget` and `bnl` make it easy to recover objects in JOD binary backups. The objects \n",
    "are not defined in locales. You must edit them with `ed` and select what you need. \n",
    "Object names are suffixed with backup numbers. This is done to distinquish object versions. \n",
    "Typically these backup numbers will be removed when editing recovered objects.\n",
    "\n",
    "    John Baker \n",
    "    December 2019\n",
    "    bakerjd99@gmail.com"
   ]
  },
  {
   "cell_type": "code",
   "execution_count": null,
   "metadata": {
    "collapsed": true
   },
   "outputs": [],
   "source": []
  }
 ],
 "metadata": {
  "kernelspec": {
   "display_name": "J",
   "language": "J",
   "name": "jkernel"
  },
  "language_info": {
   "file_extension": "ijs",
   "mimetype": "text/x-J",
   "name": "J"
  }
 },
 "nbformat": 4,
 "nbformat_minor": 2
}
